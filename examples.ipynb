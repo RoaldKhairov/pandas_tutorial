{
 "cells": [
  {
   "cell_type": "markdown",
   "metadata": {
    "slideshow": {
     "slide_type": "slide"
    }
   },
   "source": [
    "# <center> PANDAS : \n",
    "# <center> Эволюционный пинок"
   ]
  },
  {
   "cell_type": "markdown",
   "metadata": {
    "slideshow": {
     "slide_type": "slide"
    }
   },
   "source": [
    "### <center> Скромный Я\n",
    "**github: github.com/carnotaur**  \n",
    "<br/>  \n",
    "<br/>  \n",
    "Образование:  \n",
    "    - МШЭ - КБТУ. Финансы и Экономика  \n",
    "    - University of London. Bsc at Finance  \n",
    "Опыт:  \n",
    "    - Национальный Банк Республики Казахстан  \n",
    "    - BTSDigital  \n",
    "    - Kolesa Group  "
   ]
  },
  {
   "cell_type": "markdown",
   "metadata": {
    "slideshow": {
     "slide_type": "slide"
    }
   },
   "source": [
    "### <center> Панды\n",
    "Больша́я па́нда, или бамбу́ковый медве́дь (лат. Ailuropoda melanoleuca) — вид всеядных млекопитающих из семейства медвежьих (Ursidae) со своеобразной чёрно-белой окраской шерсти, обладающих некоторыми признаками енотов. Единственный современный вид рода Ailuropus подсемейства Ailuropodinae. Большие панды обитают в горных регионах центрального Китая: Сычуань и Тибет.\n",
    "<center> <img src=\"external-content.duckduckgo.com.jpeg\" width=1800>"
   ]
  },
  {
   "cell_type": "markdown",
   "metadata": {
    "slideshow": {
     "slide_type": "slide"
    }
   },
   "source": [
    "### <center> Pandas"
   ]
  },
  {
   "cell_type": "code",
   "execution_count": 1,
   "metadata": {
    "slideshow": {
     "slide_type": "fragment"
    }
   },
   "outputs": [
    {
     "data": {
      "text/html": [
       "<div>\n",
       "<style scoped>\n",
       "    .dataframe tbody tr th:only-of-type {\n",
       "        vertical-align: middle;\n",
       "    }\n",
       "\n",
       "    .dataframe tbody tr th {\n",
       "        vertical-align: top;\n",
       "    }\n",
       "\n",
       "    .dataframe thead th {\n",
       "        text-align: right;\n",
       "    }\n",
       "</style>\n",
       "<table border=\"1\" class=\"dataframe\">\n",
       "  <thead>\n",
       "    <tr style=\"text-align: right;\">\n",
       "      <th></th>\n",
       "      <th>R_fighter</th>\n",
       "      <th>B_fighter</th>\n",
       "      <th>R_KD</th>\n",
       "      <th>B_KD</th>\n",
       "      <th>R_SIG_STR.</th>\n",
       "      <th>B_SIG_STR.</th>\n",
       "      <th>R_SIG_STR_pct</th>\n",
       "      <th>B_SIG_STR_pct</th>\n",
       "      <th>R_TOTAL_STR.</th>\n",
       "      <th>B_TOTAL_STR.</th>\n",
       "      <th>...</th>\n",
       "      <th>B_GROUND</th>\n",
       "      <th>win_by</th>\n",
       "      <th>last_round</th>\n",
       "      <th>last_round_time</th>\n",
       "      <th>Format</th>\n",
       "      <th>Referee</th>\n",
       "      <th>date</th>\n",
       "      <th>location</th>\n",
       "      <th>Fight_type</th>\n",
       "      <th>Winner</th>\n",
       "    </tr>\n",
       "  </thead>\n",
       "  <tbody>\n",
       "    <tr>\n",
       "      <th>0</th>\n",
       "      <td>Henry Cejudo</td>\n",
       "      <td>Marlon Moraes</td>\n",
       "      <td>0</td>\n",
       "      <td>0</td>\n",
       "      <td>90 of 171</td>\n",
       "      <td>57 of 119</td>\n",
       "      <td>52%</td>\n",
       "      <td>47%</td>\n",
       "      <td>99 of 182</td>\n",
       "      <td>59 of 121</td>\n",
       "      <td>...</td>\n",
       "      <td>1 of 1</td>\n",
       "      <td>KO/TKO</td>\n",
       "      <td>3</td>\n",
       "      <td>4:51</td>\n",
       "      <td>5 Rnd (5-5-5-5-5)</td>\n",
       "      <td>Marc Goddard</td>\n",
       "      <td>June 08, 2019</td>\n",
       "      <td>Chicago, Illinois, USA</td>\n",
       "      <td>UFC Bantamweight Title Bout</td>\n",
       "      <td>Henry Cejudo</td>\n",
       "    </tr>\n",
       "    <tr>\n",
       "      <th>1</th>\n",
       "      <td>Valentina Shevchenko</td>\n",
       "      <td>Jessica Eye</td>\n",
       "      <td>1</td>\n",
       "      <td>0</td>\n",
       "      <td>8 of 11</td>\n",
       "      <td>2 of 12</td>\n",
       "      <td>72%</td>\n",
       "      <td>16%</td>\n",
       "      <td>37 of 40</td>\n",
       "      <td>42 of 52</td>\n",
       "      <td>...</td>\n",
       "      <td>0 of 0</td>\n",
       "      <td>KO/TKO</td>\n",
       "      <td>2</td>\n",
       "      <td>0:26</td>\n",
       "      <td>5 Rnd (5-5-5-5-5)</td>\n",
       "      <td>Robert Madrigal</td>\n",
       "      <td>June 08, 2019</td>\n",
       "      <td>Chicago, Illinois, USA</td>\n",
       "      <td>UFC Women's Flyweight Title Bout</td>\n",
       "      <td>Valentina Shevchenko</td>\n",
       "    </tr>\n",
       "    <tr>\n",
       "      <th>2</th>\n",
       "      <td>Tony Ferguson</td>\n",
       "      <td>Donald Cerrone</td>\n",
       "      <td>0</td>\n",
       "      <td>0</td>\n",
       "      <td>104 of 200</td>\n",
       "      <td>68 of 185</td>\n",
       "      <td>52%</td>\n",
       "      <td>36%</td>\n",
       "      <td>104 of 200</td>\n",
       "      <td>68 of 185</td>\n",
       "      <td>...</td>\n",
       "      <td>0 of 0</td>\n",
       "      <td>TKO - Doctor's Stoppage</td>\n",
       "      <td>2</td>\n",
       "      <td>5:00</td>\n",
       "      <td>3 Rnd (5-5-5)</td>\n",
       "      <td>Dan Miragliotta</td>\n",
       "      <td>June 08, 2019</td>\n",
       "      <td>Chicago, Illinois, USA</td>\n",
       "      <td>Lightweight Bout</td>\n",
       "      <td>Tony Ferguson</td>\n",
       "    </tr>\n",
       "    <tr>\n",
       "      <th>3</th>\n",
       "      <td>Jimmie Rivera</td>\n",
       "      <td>Petr Yan</td>\n",
       "      <td>0</td>\n",
       "      <td>2</td>\n",
       "      <td>73 of 192</td>\n",
       "      <td>56 of 189</td>\n",
       "      <td>38%</td>\n",
       "      <td>29%</td>\n",
       "      <td>76 of 195</td>\n",
       "      <td>58 of 192</td>\n",
       "      <td>...</td>\n",
       "      <td>4 of 10</td>\n",
       "      <td>Decision - Unanimous</td>\n",
       "      <td>3</td>\n",
       "      <td>5:00</td>\n",
       "      <td>3 Rnd (5-5-5)</td>\n",
       "      <td>Kevin MacDonald</td>\n",
       "      <td>June 08, 2019</td>\n",
       "      <td>Chicago, Illinois, USA</td>\n",
       "      <td>Bantamweight Bout</td>\n",
       "      <td>Petr Yan</td>\n",
       "    </tr>\n",
       "    <tr>\n",
       "      <th>4</th>\n",
       "      <td>Tai Tuivasa</td>\n",
       "      <td>Blagoy Ivanov</td>\n",
       "      <td>0</td>\n",
       "      <td>1</td>\n",
       "      <td>64 of 144</td>\n",
       "      <td>73 of 123</td>\n",
       "      <td>44%</td>\n",
       "      <td>59%</td>\n",
       "      <td>66 of 146</td>\n",
       "      <td>81 of 131</td>\n",
       "      <td>...</td>\n",
       "      <td>6 of 6</td>\n",
       "      <td>Decision - Unanimous</td>\n",
       "      <td>3</td>\n",
       "      <td>5:00</td>\n",
       "      <td>3 Rnd (5-5-5)</td>\n",
       "      <td>Dan Miragliotta</td>\n",
       "      <td>June 08, 2019</td>\n",
       "      <td>Chicago, Illinois, USA</td>\n",
       "      <td>Heavyweight Bout</td>\n",
       "      <td>Blagoy Ivanov</td>\n",
       "    </tr>\n",
       "  </tbody>\n",
       "</table>\n",
       "<p>5 rows × 41 columns</p>\n",
       "</div>"
      ],
      "text/plain": [
       "              R_fighter       B_fighter  R_KD  B_KD  R_SIG_STR. B_SIG_STR.  \\\n",
       "0          Henry Cejudo   Marlon Moraes     0     0   90 of 171  57 of 119   \n",
       "1  Valentina Shevchenko     Jessica Eye     1     0     8 of 11    2 of 12   \n",
       "2         Tony Ferguson  Donald Cerrone     0     0  104 of 200  68 of 185   \n",
       "3         Jimmie Rivera        Petr Yan     0     2   73 of 192  56 of 189   \n",
       "4           Tai Tuivasa   Blagoy Ivanov     0     1   64 of 144  73 of 123   \n",
       "\n",
       "  R_SIG_STR_pct B_SIG_STR_pct R_TOTAL_STR. B_TOTAL_STR.          ...           \\\n",
       "0           52%           47%    99 of 182    59 of 121          ...            \n",
       "1           72%           16%     37 of 40     42 of 52          ...            \n",
       "2           52%           36%   104 of 200    68 of 185          ...            \n",
       "3           38%           29%    76 of 195    58 of 192          ...            \n",
       "4           44%           59%    66 of 146    81 of 131          ...            \n",
       "\n",
       "  B_GROUND                   win_by last_round last_round_time  \\\n",
       "0   1 of 1                   KO/TKO          3            4:51   \n",
       "1   0 of 0                   KO/TKO          2            0:26   \n",
       "2   0 of 0  TKO - Doctor's Stoppage          2            5:00   \n",
       "3  4 of 10     Decision - Unanimous          3            5:00   \n",
       "4   6 of 6     Decision - Unanimous          3            5:00   \n",
       "\n",
       "              Format          Referee           date                location  \\\n",
       "0  5 Rnd (5-5-5-5-5)     Marc Goddard  June 08, 2019  Chicago, Illinois, USA   \n",
       "1  5 Rnd (5-5-5-5-5)  Robert Madrigal  June 08, 2019  Chicago, Illinois, USA   \n",
       "2      3 Rnd (5-5-5)  Dan Miragliotta  June 08, 2019  Chicago, Illinois, USA   \n",
       "3      3 Rnd (5-5-5)  Kevin MacDonald  June 08, 2019  Chicago, Illinois, USA   \n",
       "4      3 Rnd (5-5-5)  Dan Miragliotta  June 08, 2019  Chicago, Illinois, USA   \n",
       "\n",
       "                         Fight_type                Winner  \n",
       "0       UFC Bantamweight Title Bout          Henry Cejudo  \n",
       "1  UFC Women's Flyweight Title Bout  Valentina Shevchenko  \n",
       "2                  Lightweight Bout         Tony Ferguson  \n",
       "3                 Bantamweight Bout              Petr Yan  \n",
       "4                  Heavyweight Bout         Blagoy Ivanov  \n",
       "\n",
       "[5 rows x 41 columns]"
      ]
     },
     "execution_count": 1,
     "metadata": {},
     "output_type": "execute_result"
    }
   ],
   "source": [
    "import pandas as pd\n",
    "df = pd.read_csv('raw_total_fight_data.csv', sep=';')\n",
    "df.head()"
   ]
  },
  {
   "cell_type": "markdown",
   "metadata": {
    "slideshow": {
     "slide_type": "slide"
    }
   },
   "source": [
    "#### Первичный анализ"
   ]
  },
  {
   "cell_type": "code",
   "execution_count": 2,
   "metadata": {
    "slideshow": {
     "slide_type": "fragment"
    }
   },
   "outputs": [
    {
     "data": {
      "text/html": [
       "<div>\n",
       "<style scoped>\n",
       "    .dataframe tbody tr th:only-of-type {\n",
       "        vertical-align: middle;\n",
       "    }\n",
       "\n",
       "    .dataframe tbody tr th {\n",
       "        vertical-align: top;\n",
       "    }\n",
       "\n",
       "    .dataframe thead th {\n",
       "        text-align: right;\n",
       "    }\n",
       "</style>\n",
       "<table border=\"1\" class=\"dataframe\">\n",
       "  <thead>\n",
       "    <tr style=\"text-align: right;\">\n",
       "      <th></th>\n",
       "      <th>R_fighter</th>\n",
       "      <th>B_fighter</th>\n",
       "      <th>R_KD</th>\n",
       "      <th>B_KD</th>\n",
       "      <th>R_SIG_STR.</th>\n",
       "      <th>B_SIG_STR.</th>\n",
       "      <th>R_SIG_STR_pct</th>\n",
       "      <th>B_SIG_STR_pct</th>\n",
       "      <th>R_TOTAL_STR.</th>\n",
       "      <th>B_TOTAL_STR.</th>\n",
       "      <th>...</th>\n",
       "      <th>B_GROUND</th>\n",
       "      <th>win_by</th>\n",
       "      <th>last_round</th>\n",
       "      <th>last_round_time</th>\n",
       "      <th>Format</th>\n",
       "      <th>Referee</th>\n",
       "      <th>date</th>\n",
       "      <th>location</th>\n",
       "      <th>Fight_type</th>\n",
       "      <th>Winner</th>\n",
       "    </tr>\n",
       "  </thead>\n",
       "  <tbody>\n",
       "    <tr>\n",
       "      <th>0</th>\n",
       "      <td>Henry Cejudo</td>\n",
       "      <td>Marlon Moraes</td>\n",
       "      <td>0</td>\n",
       "      <td>0</td>\n",
       "      <td>90 of 171</td>\n",
       "      <td>57 of 119</td>\n",
       "      <td>52%</td>\n",
       "      <td>47%</td>\n",
       "      <td>99 of 182</td>\n",
       "      <td>59 of 121</td>\n",
       "      <td>...</td>\n",
       "      <td>1 of 1</td>\n",
       "      <td>KO/TKO</td>\n",
       "      <td>3</td>\n",
       "      <td>4:51</td>\n",
       "      <td>5 Rnd (5-5-5-5-5)</td>\n",
       "      <td>Marc Goddard</td>\n",
       "      <td>June 08, 2019</td>\n",
       "      <td>Chicago, Illinois, USA</td>\n",
       "      <td>UFC Bantamweight Title Bout</td>\n",
       "      <td>Henry Cejudo</td>\n",
       "    </tr>\n",
       "    <tr>\n",
       "      <th>1</th>\n",
       "      <td>Valentina Shevchenko</td>\n",
       "      <td>Jessica Eye</td>\n",
       "      <td>1</td>\n",
       "      <td>0</td>\n",
       "      <td>8 of 11</td>\n",
       "      <td>2 of 12</td>\n",
       "      <td>72%</td>\n",
       "      <td>16%</td>\n",
       "      <td>37 of 40</td>\n",
       "      <td>42 of 52</td>\n",
       "      <td>...</td>\n",
       "      <td>0 of 0</td>\n",
       "      <td>KO/TKO</td>\n",
       "      <td>2</td>\n",
       "      <td>0:26</td>\n",
       "      <td>5 Rnd (5-5-5-5-5)</td>\n",
       "      <td>Robert Madrigal</td>\n",
       "      <td>June 08, 2019</td>\n",
       "      <td>Chicago, Illinois, USA</td>\n",
       "      <td>UFC Women's Flyweight Title Bout</td>\n",
       "      <td>Valentina Shevchenko</td>\n",
       "    </tr>\n",
       "    <tr>\n",
       "      <th>2</th>\n",
       "      <td>Tony Ferguson</td>\n",
       "      <td>Donald Cerrone</td>\n",
       "      <td>0</td>\n",
       "      <td>0</td>\n",
       "      <td>104 of 200</td>\n",
       "      <td>68 of 185</td>\n",
       "      <td>52%</td>\n",
       "      <td>36%</td>\n",
       "      <td>104 of 200</td>\n",
       "      <td>68 of 185</td>\n",
       "      <td>...</td>\n",
       "      <td>0 of 0</td>\n",
       "      <td>TKO - Doctor's Stoppage</td>\n",
       "      <td>2</td>\n",
       "      <td>5:00</td>\n",
       "      <td>3 Rnd (5-5-5)</td>\n",
       "      <td>Dan Miragliotta</td>\n",
       "      <td>June 08, 2019</td>\n",
       "      <td>Chicago, Illinois, USA</td>\n",
       "      <td>Lightweight Bout</td>\n",
       "      <td>Tony Ferguson</td>\n",
       "    </tr>\n",
       "    <tr>\n",
       "      <th>3</th>\n",
       "      <td>Jimmie Rivera</td>\n",
       "      <td>Petr Yan</td>\n",
       "      <td>0</td>\n",
       "      <td>2</td>\n",
       "      <td>73 of 192</td>\n",
       "      <td>56 of 189</td>\n",
       "      <td>38%</td>\n",
       "      <td>29%</td>\n",
       "      <td>76 of 195</td>\n",
       "      <td>58 of 192</td>\n",
       "      <td>...</td>\n",
       "      <td>4 of 10</td>\n",
       "      <td>Decision - Unanimous</td>\n",
       "      <td>3</td>\n",
       "      <td>5:00</td>\n",
       "      <td>3 Rnd (5-5-5)</td>\n",
       "      <td>Kevin MacDonald</td>\n",
       "      <td>June 08, 2019</td>\n",
       "      <td>Chicago, Illinois, USA</td>\n",
       "      <td>Bantamweight Bout</td>\n",
       "      <td>Petr Yan</td>\n",
       "    </tr>\n",
       "    <tr>\n",
       "      <th>4</th>\n",
       "      <td>Tai Tuivasa</td>\n",
       "      <td>Blagoy Ivanov</td>\n",
       "      <td>0</td>\n",
       "      <td>1</td>\n",
       "      <td>64 of 144</td>\n",
       "      <td>73 of 123</td>\n",
       "      <td>44%</td>\n",
       "      <td>59%</td>\n",
       "      <td>66 of 146</td>\n",
       "      <td>81 of 131</td>\n",
       "      <td>...</td>\n",
       "      <td>6 of 6</td>\n",
       "      <td>Decision - Unanimous</td>\n",
       "      <td>3</td>\n",
       "      <td>5:00</td>\n",
       "      <td>3 Rnd (5-5-5)</td>\n",
       "      <td>Dan Miragliotta</td>\n",
       "      <td>June 08, 2019</td>\n",
       "      <td>Chicago, Illinois, USA</td>\n",
       "      <td>Heavyweight Bout</td>\n",
       "      <td>Blagoy Ivanov</td>\n",
       "    </tr>\n",
       "  </tbody>\n",
       "</table>\n",
       "<p>5 rows × 41 columns</p>\n",
       "</div>"
      ],
      "text/plain": [
       "              R_fighter       B_fighter  R_KD  B_KD  R_SIG_STR. B_SIG_STR.  \\\n",
       "0          Henry Cejudo   Marlon Moraes     0     0   90 of 171  57 of 119   \n",
       "1  Valentina Shevchenko     Jessica Eye     1     0     8 of 11    2 of 12   \n",
       "2         Tony Ferguson  Donald Cerrone     0     0  104 of 200  68 of 185   \n",
       "3         Jimmie Rivera        Petr Yan     0     2   73 of 192  56 of 189   \n",
       "4           Tai Tuivasa   Blagoy Ivanov     0     1   64 of 144  73 of 123   \n",
       "\n",
       "  R_SIG_STR_pct B_SIG_STR_pct R_TOTAL_STR. B_TOTAL_STR.          ...           \\\n",
       "0           52%           47%    99 of 182    59 of 121          ...            \n",
       "1           72%           16%     37 of 40     42 of 52          ...            \n",
       "2           52%           36%   104 of 200    68 of 185          ...            \n",
       "3           38%           29%    76 of 195    58 of 192          ...            \n",
       "4           44%           59%    66 of 146    81 of 131          ...            \n",
       "\n",
       "  B_GROUND                   win_by last_round last_round_time  \\\n",
       "0   1 of 1                   KO/TKO          3            4:51   \n",
       "1   0 of 0                   KO/TKO          2            0:26   \n",
       "2   0 of 0  TKO - Doctor's Stoppage          2            5:00   \n",
       "3  4 of 10     Decision - Unanimous          3            5:00   \n",
       "4   6 of 6     Decision - Unanimous          3            5:00   \n",
       "\n",
       "              Format          Referee           date                location  \\\n",
       "0  5 Rnd (5-5-5-5-5)     Marc Goddard  June 08, 2019  Chicago, Illinois, USA   \n",
       "1  5 Rnd (5-5-5-5-5)  Robert Madrigal  June 08, 2019  Chicago, Illinois, USA   \n",
       "2      3 Rnd (5-5-5)  Dan Miragliotta  June 08, 2019  Chicago, Illinois, USA   \n",
       "3      3 Rnd (5-5-5)  Kevin MacDonald  June 08, 2019  Chicago, Illinois, USA   \n",
       "4      3 Rnd (5-5-5)  Dan Miragliotta  June 08, 2019  Chicago, Illinois, USA   \n",
       "\n",
       "                         Fight_type                Winner  \n",
       "0       UFC Bantamweight Title Bout          Henry Cejudo  \n",
       "1  UFC Women's Flyweight Title Bout  Valentina Shevchenko  \n",
       "2                  Lightweight Bout         Tony Ferguson  \n",
       "3                 Bantamweight Bout              Petr Yan  \n",
       "4                  Heavyweight Bout         Blagoy Ivanov  \n",
       "\n",
       "[5 rows x 41 columns]"
      ]
     },
     "execution_count": 2,
     "metadata": {},
     "output_type": "execute_result"
    }
   ],
   "source": [
    "df.head(5)"
   ]
  },
  {
   "cell_type": "code",
   "execution_count": 3,
   "metadata": {
    "slideshow": {
     "slide_type": "subslide"
    }
   },
   "outputs": [
    {
     "name": "stdout",
     "output_type": "stream",
     "text": [
      "<class 'pandas.core.frame.DataFrame'>\n",
      "RangeIndex: 5144 entries, 0 to 5143\n",
      "Data columns (total 41 columns):\n",
      "R_fighter          5144 non-null object\n",
      "B_fighter          5144 non-null object\n",
      "R_KD               5144 non-null int64\n",
      "B_KD               5144 non-null int64\n",
      "R_SIG_STR.         5144 non-null object\n",
      "B_SIG_STR.         5144 non-null object\n",
      "R_SIG_STR_pct      5144 non-null object\n",
      "B_SIG_STR_pct      5144 non-null object\n",
      "R_TOTAL_STR.       5144 non-null object\n",
      "B_TOTAL_STR.       5144 non-null object\n",
      "R_TD               5144 non-null object\n",
      "B_TD               5144 non-null object\n",
      "R_TD_pct           5144 non-null object\n",
      "B_TD_pct           5144 non-null object\n",
      "R_SUB_ATT          5144 non-null int64\n",
      "B_SUB_ATT          5144 non-null int64\n",
      "R_PASS             5144 non-null int64\n",
      "B_PASS             5144 non-null int64\n",
      "R_REV              5144 non-null int64\n",
      "B_REV              5144 non-null int64\n",
      "R_HEAD             5144 non-null object\n",
      "B_HEAD             5144 non-null object\n",
      "R_BODY             5144 non-null object\n",
      "B_BODY             5144 non-null object\n",
      "R_LEG              5144 non-null object\n",
      "B_LEG              5144 non-null object\n",
      "R_DISTANCE         5144 non-null object\n",
      "B_DISTANCE         5144 non-null object\n",
      "R_CLINCH           5144 non-null object\n",
      "B_CLINCH           5144 non-null object\n",
      "R_GROUND           5144 non-null object\n",
      "B_GROUND           5144 non-null object\n",
      "win_by             5144 non-null object\n",
      "last_round         5144 non-null int64\n",
      "last_round_time    5144 non-null object\n",
      "Format             5144 non-null object\n",
      "Referee            5121 non-null object\n",
      "date               5144 non-null object\n",
      "location           5144 non-null object\n",
      "Fight_type         5144 non-null object\n",
      "Winner             5061 non-null object\n",
      "dtypes: int64(9), object(32)\n",
      "memory usage: 10.7 MB\n"
     ]
    }
   ],
   "source": [
    "df.info(memory_usage='deep')"
   ]
  },
  {
   "cell_type": "code",
   "execution_count": 4,
   "metadata": {
    "slideshow": {
     "slide_type": "subslide"
    }
   },
   "outputs": [
    {
     "data": {
      "text/html": [
       "<div>\n",
       "<style scoped>\n",
       "    .dataframe tbody tr th:only-of-type {\n",
       "        vertical-align: middle;\n",
       "    }\n",
       "\n",
       "    .dataframe tbody tr th {\n",
       "        vertical-align: top;\n",
       "    }\n",
       "\n",
       "    .dataframe thead th {\n",
       "        text-align: right;\n",
       "    }\n",
       "</style>\n",
       "<table border=\"1\" class=\"dataframe\">\n",
       "  <thead>\n",
       "    <tr style=\"text-align: right;\">\n",
       "      <th></th>\n",
       "      <th>R_fighter</th>\n",
       "      <th>B_fighter</th>\n",
       "      <th>R_SIG_STR.</th>\n",
       "      <th>B_SIG_STR.</th>\n",
       "      <th>R_SIG_STR_pct</th>\n",
       "      <th>B_SIG_STR_pct</th>\n",
       "      <th>R_TOTAL_STR.</th>\n",
       "      <th>B_TOTAL_STR.</th>\n",
       "      <th>R_TD</th>\n",
       "      <th>B_TD</th>\n",
       "      <th>...</th>\n",
       "      <th>R_GROUND</th>\n",
       "      <th>B_GROUND</th>\n",
       "      <th>win_by</th>\n",
       "      <th>last_round_time</th>\n",
       "      <th>Format</th>\n",
       "      <th>Referee</th>\n",
       "      <th>date</th>\n",
       "      <th>location</th>\n",
       "      <th>Fight_type</th>\n",
       "      <th>Winner</th>\n",
       "    </tr>\n",
       "  </thead>\n",
       "  <tbody>\n",
       "    <tr>\n",
       "      <th>0</th>\n",
       "      <td>Henry Cejudo</td>\n",
       "      <td>Marlon Moraes</td>\n",
       "      <td>90 of 171</td>\n",
       "      <td>57 of 119</td>\n",
       "      <td>52%</td>\n",
       "      <td>47%</td>\n",
       "      <td>99 of 182</td>\n",
       "      <td>59 of 121</td>\n",
       "      <td>1 of 4</td>\n",
       "      <td>0 of 2</td>\n",
       "      <td>...</td>\n",
       "      <td>26 of 30</td>\n",
       "      <td>1 of 1</td>\n",
       "      <td>KO/TKO</td>\n",
       "      <td>4:51</td>\n",
       "      <td>5 Rnd (5-5-5-5-5)</td>\n",
       "      <td>Marc Goddard</td>\n",
       "      <td>June 08, 2019</td>\n",
       "      <td>Chicago, Illinois, USA</td>\n",
       "      <td>UFC Bantamweight Title Bout</td>\n",
       "      <td>Henry Cejudo</td>\n",
       "    </tr>\n",
       "    <tr>\n",
       "      <th>1</th>\n",
       "      <td>Valentina Shevchenko</td>\n",
       "      <td>Jessica Eye</td>\n",
       "      <td>8 of 11</td>\n",
       "      <td>2 of 12</td>\n",
       "      <td>72%</td>\n",
       "      <td>16%</td>\n",
       "      <td>37 of 40</td>\n",
       "      <td>42 of 52</td>\n",
       "      <td>2 of 2</td>\n",
       "      <td>0 of 0</td>\n",
       "      <td>...</td>\n",
       "      <td>1 of 1</td>\n",
       "      <td>0 of 0</td>\n",
       "      <td>KO/TKO</td>\n",
       "      <td>0:26</td>\n",
       "      <td>5 Rnd (5-5-5-5-5)</td>\n",
       "      <td>Robert Madrigal</td>\n",
       "      <td>June 08, 2019</td>\n",
       "      <td>Chicago, Illinois, USA</td>\n",
       "      <td>UFC Women's Flyweight Title Bout</td>\n",
       "      <td>Valentina Shevchenko</td>\n",
       "    </tr>\n",
       "    <tr>\n",
       "      <th>2</th>\n",
       "      <td>Tony Ferguson</td>\n",
       "      <td>Donald Cerrone</td>\n",
       "      <td>104 of 200</td>\n",
       "      <td>68 of 185</td>\n",
       "      <td>52%</td>\n",
       "      <td>36%</td>\n",
       "      <td>104 of 200</td>\n",
       "      <td>68 of 185</td>\n",
       "      <td>0 of 0</td>\n",
       "      <td>1 of 1</td>\n",
       "      <td>...</td>\n",
       "      <td>0 of 0</td>\n",
       "      <td>0 of 0</td>\n",
       "      <td>TKO - Doctor's Stoppage</td>\n",
       "      <td>5:00</td>\n",
       "      <td>3 Rnd (5-5-5)</td>\n",
       "      <td>Dan Miragliotta</td>\n",
       "      <td>June 08, 2019</td>\n",
       "      <td>Chicago, Illinois, USA</td>\n",
       "      <td>Lightweight Bout</td>\n",
       "      <td>Tony Ferguson</td>\n",
       "    </tr>\n",
       "    <tr>\n",
       "      <th>3</th>\n",
       "      <td>Jimmie Rivera</td>\n",
       "      <td>Petr Yan</td>\n",
       "      <td>73 of 192</td>\n",
       "      <td>56 of 189</td>\n",
       "      <td>38%</td>\n",
       "      <td>29%</td>\n",
       "      <td>76 of 195</td>\n",
       "      <td>58 of 192</td>\n",
       "      <td>0 of 3</td>\n",
       "      <td>1 of 3</td>\n",
       "      <td>...</td>\n",
       "      <td>4 of 4</td>\n",
       "      <td>4 of 10</td>\n",
       "      <td>Decision - Unanimous</td>\n",
       "      <td>5:00</td>\n",
       "      <td>3 Rnd (5-5-5)</td>\n",
       "      <td>Kevin MacDonald</td>\n",
       "      <td>June 08, 2019</td>\n",
       "      <td>Chicago, Illinois, USA</td>\n",
       "      <td>Bantamweight Bout</td>\n",
       "      <td>Petr Yan</td>\n",
       "    </tr>\n",
       "    <tr>\n",
       "      <th>4</th>\n",
       "      <td>Tai Tuivasa</td>\n",
       "      <td>Blagoy Ivanov</td>\n",
       "      <td>64 of 144</td>\n",
       "      <td>73 of 123</td>\n",
       "      <td>44%</td>\n",
       "      <td>59%</td>\n",
       "      <td>66 of 146</td>\n",
       "      <td>81 of 131</td>\n",
       "      <td>0 of 0</td>\n",
       "      <td>2 of 2</td>\n",
       "      <td>...</td>\n",
       "      <td>0 of 0</td>\n",
       "      <td>6 of 6</td>\n",
       "      <td>Decision - Unanimous</td>\n",
       "      <td>5:00</td>\n",
       "      <td>3 Rnd (5-5-5)</td>\n",
       "      <td>Dan Miragliotta</td>\n",
       "      <td>June 08, 2019</td>\n",
       "      <td>Chicago, Illinois, USA</td>\n",
       "      <td>Heavyweight Bout</td>\n",
       "      <td>Blagoy Ivanov</td>\n",
       "    </tr>\n",
       "  </tbody>\n",
       "</table>\n",
       "<p>5 rows × 32 columns</p>\n",
       "</div>"
      ],
      "text/plain": [
       "              R_fighter       B_fighter  R_SIG_STR. B_SIG_STR. R_SIG_STR_pct  \\\n",
       "0          Henry Cejudo   Marlon Moraes   90 of 171  57 of 119           52%   \n",
       "1  Valentina Shevchenko     Jessica Eye     8 of 11    2 of 12           72%   \n",
       "2         Tony Ferguson  Donald Cerrone  104 of 200  68 of 185           52%   \n",
       "3         Jimmie Rivera        Petr Yan   73 of 192  56 of 189           38%   \n",
       "4           Tai Tuivasa   Blagoy Ivanov   64 of 144  73 of 123           44%   \n",
       "\n",
       "  B_SIG_STR_pct R_TOTAL_STR. B_TOTAL_STR.    R_TD    B_TD  \\\n",
       "0           47%    99 of 182    59 of 121  1 of 4  0 of 2   \n",
       "1           16%     37 of 40     42 of 52  2 of 2  0 of 0   \n",
       "2           36%   104 of 200    68 of 185  0 of 0  1 of 1   \n",
       "3           29%    76 of 195    58 of 192  0 of 3  1 of 3   \n",
       "4           59%    66 of 146    81 of 131  0 of 0  2 of 2   \n",
       "\n",
       "           ...           R_GROUND B_GROUND                   win_by  \\\n",
       "0          ...           26 of 30   1 of 1                   KO/TKO   \n",
       "1          ...             1 of 1   0 of 0                   KO/TKO   \n",
       "2          ...             0 of 0   0 of 0  TKO - Doctor's Stoppage   \n",
       "3          ...             4 of 4  4 of 10     Decision - Unanimous   \n",
       "4          ...             0 of 0   6 of 6     Decision - Unanimous   \n",
       "\n",
       "  last_round_time             Format          Referee           date  \\\n",
       "0            4:51  5 Rnd (5-5-5-5-5)     Marc Goddard  June 08, 2019   \n",
       "1            0:26  5 Rnd (5-5-5-5-5)  Robert Madrigal  June 08, 2019   \n",
       "2            5:00      3 Rnd (5-5-5)  Dan Miragliotta  June 08, 2019   \n",
       "3            5:00      3 Rnd (5-5-5)  Kevin MacDonald  June 08, 2019   \n",
       "4            5:00      3 Rnd (5-5-5)  Dan Miragliotta  June 08, 2019   \n",
       "\n",
       "                 location                        Fight_type  \\\n",
       "0  Chicago, Illinois, USA       UFC Bantamweight Title Bout   \n",
       "1  Chicago, Illinois, USA  UFC Women's Flyweight Title Bout   \n",
       "2  Chicago, Illinois, USA                  Lightweight Bout   \n",
       "3  Chicago, Illinois, USA                 Bantamweight Bout   \n",
       "4  Chicago, Illinois, USA                  Heavyweight Bout   \n",
       "\n",
       "                 Winner  \n",
       "0          Henry Cejudo  \n",
       "1  Valentina Shevchenko  \n",
       "2         Tony Ferguson  \n",
       "3              Petr Yan  \n",
       "4         Blagoy Ivanov  \n",
       "\n",
       "[5 rows x 32 columns]"
      ]
     },
     "execution_count": 4,
     "metadata": {},
     "output_type": "execute_result"
    }
   ],
   "source": [
    "df.select_dtypes(include='object').head()"
   ]
  },
  {
   "cell_type": "markdown",
   "metadata": {
    "slideshow": {
     "slide_type": "slide"
    }
   },
   "source": [
    "#### Работа с Strings"
   ]
  },
  {
   "cell_type": "markdown",
   "metadata": {
    "slideshow": {
     "slide_type": "fragment"
    }
   },
   "source": [
    "<center> <img src=\"external-content.ууу.com.jpeg\" width=1800>"
   ]
  },
  {
   "cell_type": "code",
   "execution_count": 5,
   "metadata": {
    "slideshow": {
     "slide_type": "fragment"
    }
   },
   "outputs": [
    {
     "data": {
      "text/plain": [
       "0    Chicago, Illinois, USA\n",
       "1    Chicago, Illinois, USA\n",
       "2    Chicago, Illinois, USA\n",
       "3    Chicago, Illinois, USA\n",
       "4    Chicago, Illinois, USA\n",
       "Name: location, dtype: object"
      ]
     },
     "execution_count": 5,
     "metadata": {},
     "output_type": "execute_result"
    }
   ],
   "source": [
    "df['location'].head()"
   ]
  },
  {
   "cell_type": "code",
   "execution_count": 6,
   "metadata": {
    "slideshow": {
     "slide_type": "fragment"
    }
   },
   "outputs": [
    {
     "data": {
      "text/plain": [
       "0    [Chicago,  Illinois,  USA]\n",
       "1    [Chicago,  Illinois,  USA]\n",
       "2    [Chicago,  Illinois,  USA]\n",
       "3    [Chicago,  Illinois,  USA]\n",
       "4    [Chicago,  Illinois,  USA]\n",
       "Name: location, dtype: object"
      ]
     },
     "execution_count": 6,
     "metadata": {},
     "output_type": "execute_result"
    }
   ],
   "source": [
    "df['location'].str.split(',').head()"
   ]
  },
  {
   "cell_type": "code",
   "execution_count": 7,
   "metadata": {
    "slideshow": {
     "slide_type": "fragment"
    }
   },
   "outputs": [
    {
     "data": {
      "text/plain": [
       "3    4694\n",
       "2     450\n",
       "Name: location, dtype: int64"
      ]
     },
     "execution_count": 7,
     "metadata": {},
     "output_type": "execute_result"
    }
   ],
   "source": [
    "df['location'].str.split(',').str.len().value_counts()"
   ]
  },
  {
   "cell_type": "code",
   "execution_count": 8,
   "metadata": {
    "slideshow": {
     "slide_type": "subslide"
    }
   },
   "outputs": [
    {
     "data": {
      "text/html": [
       "<div>\n",
       "<style scoped>\n",
       "    .dataframe tbody tr th:only-of-type {\n",
       "        vertical-align: middle;\n",
       "    }\n",
       "\n",
       "    .dataframe tbody tr th {\n",
       "        vertical-align: top;\n",
       "    }\n",
       "\n",
       "    .dataframe thead th {\n",
       "        text-align: right;\n",
       "    }\n",
       "</style>\n",
       "<table border=\"1\" class=\"dataframe\">\n",
       "  <thead>\n",
       "    <tr style=\"text-align: right;\">\n",
       "      <th></th>\n",
       "      <th>0</th>\n",
       "      <th>1</th>\n",
       "      <th>2</th>\n",
       "    </tr>\n",
       "  </thead>\n",
       "  <tbody>\n",
       "    <tr>\n",
       "      <th>0</th>\n",
       "      <td>Chicago</td>\n",
       "      <td>Illinois</td>\n",
       "      <td>USA</td>\n",
       "    </tr>\n",
       "    <tr>\n",
       "      <th>1</th>\n",
       "      <td>Chicago</td>\n",
       "      <td>Illinois</td>\n",
       "      <td>USA</td>\n",
       "    </tr>\n",
       "    <tr>\n",
       "      <th>2</th>\n",
       "      <td>Chicago</td>\n",
       "      <td>Illinois</td>\n",
       "      <td>USA</td>\n",
       "    </tr>\n",
       "    <tr>\n",
       "      <th>3</th>\n",
       "      <td>Chicago</td>\n",
       "      <td>Illinois</td>\n",
       "      <td>USA</td>\n",
       "    </tr>\n",
       "    <tr>\n",
       "      <th>4</th>\n",
       "      <td>Chicago</td>\n",
       "      <td>Illinois</td>\n",
       "      <td>USA</td>\n",
       "    </tr>\n",
       "  </tbody>\n",
       "</table>\n",
       "</div>"
      ],
      "text/plain": [
       "         0          1     2\n",
       "0  Chicago   Illinois   USA\n",
       "1  Chicago   Illinois   USA\n",
       "2  Chicago   Illinois   USA\n",
       "3  Chicago   Illinois   USA\n",
       "4  Chicago   Illinois   USA"
      ]
     },
     "execution_count": 8,
     "metadata": {},
     "output_type": "execute_result"
    }
   ],
   "source": [
    "df['location'].str.split(',', expand=True).head()"
   ]
  },
  {
   "cell_type": "code",
   "execution_count": 61,
   "metadata": {
    "slideshow": {
     "slide_type": "fragment"
    }
   },
   "outputs": [
    {
     "data": {
      "text/html": [
       "<div>\n",
       "<style scoped>\n",
       "    .dataframe tbody tr th:only-of-type {\n",
       "        vertical-align: middle;\n",
       "    }\n",
       "\n",
       "    .dataframe tbody tr th {\n",
       "        vertical-align: top;\n",
       "    }\n",
       "\n",
       "    .dataframe thead th {\n",
       "        text-align: right;\n",
       "    }\n",
       "</style>\n",
       "<table border=\"1\" class=\"dataframe\">\n",
       "  <thead>\n",
       "    <tr style=\"text-align: right;\">\n",
       "      <th></th>\n",
       "      <th>R_fighter</th>\n",
       "      <th>B_fighter</th>\n",
       "      <th>R_KD</th>\n",
       "      <th>B_KD</th>\n",
       "      <th>R_SIG_STR.</th>\n",
       "      <th>B_SIG_STR.</th>\n",
       "      <th>R_SIG_STR_pct</th>\n",
       "      <th>B_SIG_STR_pct</th>\n",
       "      <th>R_TOTAL_STR.</th>\n",
       "      <th>B_TOTAL_STR.</th>\n",
       "      <th>...</th>\n",
       "      <th>last_round_time</th>\n",
       "      <th>Format</th>\n",
       "      <th>Referee</th>\n",
       "      <th>date</th>\n",
       "      <th>location</th>\n",
       "      <th>Fight_type</th>\n",
       "      <th>Winner</th>\n",
       "      <th>0</th>\n",
       "      <th>1</th>\n",
       "      <th>2</th>\n",
       "    </tr>\n",
       "    <tr>\n",
       "      <th>date</th>\n",
       "      <th></th>\n",
       "      <th></th>\n",
       "      <th></th>\n",
       "      <th></th>\n",
       "      <th></th>\n",
       "      <th></th>\n",
       "      <th></th>\n",
       "      <th></th>\n",
       "      <th></th>\n",
       "      <th></th>\n",
       "      <th></th>\n",
       "      <th></th>\n",
       "      <th></th>\n",
       "      <th></th>\n",
       "      <th></th>\n",
       "      <th></th>\n",
       "      <th></th>\n",
       "      <th></th>\n",
       "      <th></th>\n",
       "      <th></th>\n",
       "      <th></th>\n",
       "    </tr>\n",
       "  </thead>\n",
       "  <tbody>\n",
       "    <tr>\n",
       "      <th>2019-06-08</th>\n",
       "      <td>Henry Cejudo</td>\n",
       "      <td>Marlon Moraes</td>\n",
       "      <td>0</td>\n",
       "      <td>0</td>\n",
       "      <td>90 of 171</td>\n",
       "      <td>57 of 119</td>\n",
       "      <td>52%</td>\n",
       "      <td>47%</td>\n",
       "      <td>99 of 182</td>\n",
       "      <td>59 of 121</td>\n",
       "      <td>...</td>\n",
       "      <td>4:51</td>\n",
       "      <td>5 Rnd (5-5-5-5-5)</td>\n",
       "      <td>Marc Goddard</td>\n",
       "      <td>June 08, 2019</td>\n",
       "      <td>Chicago, Illinois, USA</td>\n",
       "      <td>UFC Bantamweight Title Bout</td>\n",
       "      <td>Henry Cejudo</td>\n",
       "      <td>Chicago</td>\n",
       "      <td>Illinois</td>\n",
       "      <td>USA</td>\n",
       "    </tr>\n",
       "    <tr>\n",
       "      <th>2019-06-08</th>\n",
       "      <td>Valentina Shevchenko</td>\n",
       "      <td>Jessica Eye</td>\n",
       "      <td>1</td>\n",
       "      <td>0</td>\n",
       "      <td>8 of 11</td>\n",
       "      <td>2 of 12</td>\n",
       "      <td>72%</td>\n",
       "      <td>16%</td>\n",
       "      <td>37 of 40</td>\n",
       "      <td>42 of 52</td>\n",
       "      <td>...</td>\n",
       "      <td>0:26</td>\n",
       "      <td>5 Rnd (5-5-5-5-5)</td>\n",
       "      <td>Robert Madrigal</td>\n",
       "      <td>June 08, 2019</td>\n",
       "      <td>Chicago, Illinois, USA</td>\n",
       "      <td>UFC Women's Flyweight Title Bout</td>\n",
       "      <td>Valentina Shevchenko</td>\n",
       "      <td>Chicago</td>\n",
       "      <td>Illinois</td>\n",
       "      <td>USA</td>\n",
       "    </tr>\n",
       "    <tr>\n",
       "      <th>2019-06-08</th>\n",
       "      <td>Tony Ferguson</td>\n",
       "      <td>Donald Cerrone</td>\n",
       "      <td>0</td>\n",
       "      <td>0</td>\n",
       "      <td>104 of 200</td>\n",
       "      <td>68 of 185</td>\n",
       "      <td>52%</td>\n",
       "      <td>36%</td>\n",
       "      <td>104 of 200</td>\n",
       "      <td>68 of 185</td>\n",
       "      <td>...</td>\n",
       "      <td>5:00</td>\n",
       "      <td>3 Rnd (5-5-5)</td>\n",
       "      <td>Dan Miragliotta</td>\n",
       "      <td>June 08, 2019</td>\n",
       "      <td>Chicago, Illinois, USA</td>\n",
       "      <td>Lightweight Bout</td>\n",
       "      <td>Tony Ferguson</td>\n",
       "      <td>Chicago</td>\n",
       "      <td>Illinois</td>\n",
       "      <td>USA</td>\n",
       "    </tr>\n",
       "    <tr>\n",
       "      <th>2019-06-08</th>\n",
       "      <td>Jimmie Rivera</td>\n",
       "      <td>Petr Yan</td>\n",
       "      <td>0</td>\n",
       "      <td>2</td>\n",
       "      <td>73 of 192</td>\n",
       "      <td>56 of 189</td>\n",
       "      <td>38%</td>\n",
       "      <td>29%</td>\n",
       "      <td>76 of 195</td>\n",
       "      <td>58 of 192</td>\n",
       "      <td>...</td>\n",
       "      <td>5:00</td>\n",
       "      <td>3 Rnd (5-5-5)</td>\n",
       "      <td>Kevin MacDonald</td>\n",
       "      <td>June 08, 2019</td>\n",
       "      <td>Chicago, Illinois, USA</td>\n",
       "      <td>Bantamweight Bout</td>\n",
       "      <td>Petr Yan</td>\n",
       "      <td>Chicago</td>\n",
       "      <td>Illinois</td>\n",
       "      <td>USA</td>\n",
       "    </tr>\n",
       "    <tr>\n",
       "      <th>2019-06-08</th>\n",
       "      <td>Tai Tuivasa</td>\n",
       "      <td>Blagoy Ivanov</td>\n",
       "      <td>0</td>\n",
       "      <td>1</td>\n",
       "      <td>64 of 144</td>\n",
       "      <td>73 of 123</td>\n",
       "      <td>44%</td>\n",
       "      <td>59%</td>\n",
       "      <td>66 of 146</td>\n",
       "      <td>81 of 131</td>\n",
       "      <td>...</td>\n",
       "      <td>5:00</td>\n",
       "      <td>3 Rnd (5-5-5)</td>\n",
       "      <td>Dan Miragliotta</td>\n",
       "      <td>June 08, 2019</td>\n",
       "      <td>Chicago, Illinois, USA</td>\n",
       "      <td>Heavyweight Bout</td>\n",
       "      <td>Blagoy Ivanov</td>\n",
       "      <td>Chicago</td>\n",
       "      <td>Illinois</td>\n",
       "      <td>USA</td>\n",
       "    </tr>\n",
       "  </tbody>\n",
       "</table>\n",
       "<p>5 rows × 44 columns</p>\n",
       "</div>"
      ],
      "text/plain": [
       "                       R_fighter       B_fighter  R_KD  B_KD  R_SIG_STR.  \\\n",
       "date                                                                       \n",
       "2019-06-08          Henry Cejudo   Marlon Moraes     0     0   90 of 171   \n",
       "2019-06-08  Valentina Shevchenko     Jessica Eye     1     0     8 of 11   \n",
       "2019-06-08         Tony Ferguson  Donald Cerrone     0     0  104 of 200   \n",
       "2019-06-08         Jimmie Rivera        Petr Yan     0     2   73 of 192   \n",
       "2019-06-08           Tai Tuivasa   Blagoy Ivanov     0     1   64 of 144   \n",
       "\n",
       "           B_SIG_STR. R_SIG_STR_pct B_SIG_STR_pct R_TOTAL_STR. B_TOTAL_STR.  \\\n",
       "date                                                                          \n",
       "2019-06-08  57 of 119           52%           47%    99 of 182    59 of 121   \n",
       "2019-06-08    2 of 12           72%           16%     37 of 40     42 of 52   \n",
       "2019-06-08  68 of 185           52%           36%   104 of 200    68 of 185   \n",
       "2019-06-08  56 of 189           38%           29%    76 of 195    58 of 192   \n",
       "2019-06-08  73 of 123           44%           59%    66 of 146    81 of 131   \n",
       "\n",
       "            ...  last_round_time             Format          Referee  \\\n",
       "date        ...                                                        \n",
       "2019-06-08  ...             4:51  5 Rnd (5-5-5-5-5)     Marc Goddard   \n",
       "2019-06-08  ...             0:26  5 Rnd (5-5-5-5-5)  Robert Madrigal   \n",
       "2019-06-08  ...             5:00      3 Rnd (5-5-5)  Dan Miragliotta   \n",
       "2019-06-08  ...             5:00      3 Rnd (5-5-5)  Kevin MacDonald   \n",
       "2019-06-08  ...             5:00      3 Rnd (5-5-5)  Dan Miragliotta   \n",
       "\n",
       "                     date                location  \\\n",
       "date                                                \n",
       "2019-06-08  June 08, 2019  Chicago, Illinois, USA   \n",
       "2019-06-08  June 08, 2019  Chicago, Illinois, USA   \n",
       "2019-06-08  June 08, 2019  Chicago, Illinois, USA   \n",
       "2019-06-08  June 08, 2019  Chicago, Illinois, USA   \n",
       "2019-06-08  June 08, 2019  Chicago, Illinois, USA   \n",
       "\n",
       "                                  Fight_type                Winner        0  \\\n",
       "date                                                                          \n",
       "2019-06-08       UFC Bantamweight Title Bout          Henry Cejudo  Chicago   \n",
       "2019-06-08  UFC Women's Flyweight Title Bout  Valentina Shevchenko  Chicago   \n",
       "2019-06-08                  Lightweight Bout         Tony Ferguson  Chicago   \n",
       "2019-06-08                 Bantamweight Bout              Petr Yan  Chicago   \n",
       "2019-06-08                  Heavyweight Bout         Blagoy Ivanov  Chicago   \n",
       "\n",
       "                    1     2  \n",
       "date                         \n",
       "2019-06-08   Illinois   USA  \n",
       "2019-06-08   Illinois   USA  \n",
       "2019-06-08   Illinois   USA  \n",
       "2019-06-08   Illinois   USA  \n",
       "2019-06-08   Illinois   USA  \n",
       "\n",
       "[5 rows x 44 columns]"
      ]
     },
     "execution_count": 61,
     "metadata": {},
     "output_type": "execute_result"
    }
   ],
   "source": [
    "pd.concat([df, df['location'].str.split(',', expand=True)], axis=1).head()"
   ]
  },
  {
   "cell_type": "markdown",
   "metadata": {
    "slideshow": {
     "slide_type": "slide"
    }
   },
   "source": [
    "### Конвертирование чисел"
   ]
  },
  {
   "cell_type": "markdown",
   "metadata": {
    "slideshow": {
     "slide_type": "fragment"
    }
   },
   "source": [
    "<center> <img src=\"laying_pandas.jpeg\" width=1800>"
   ]
  },
  {
   "cell_type": "code",
   "execution_count": 10,
   "metadata": {
    "slideshow": {
     "slide_type": "subslide"
    }
   },
   "outputs": [
    {
     "data": {
      "text/plain": [
       "0    52%\n",
       "1    72%\n",
       "2    52%\n",
       "3    38%\n",
       "4    44%\n",
       "Name: R_SIG_STR_pct, dtype: object"
      ]
     },
     "execution_count": 10,
     "metadata": {},
     "output_type": "execute_result"
    }
   ],
   "source": [
    "df['R_SIG_STR_pct'].head()"
   ]
  },
  {
   "cell_type": "code",
   "execution_count": 11,
   "metadata": {
    "slideshow": {
     "slide_type": "fragment"
    }
   },
   "outputs": [
    {
     "data": {
      "text/plain": [
       "dtype('O')"
      ]
     },
     "execution_count": 11,
     "metadata": {},
     "output_type": "execute_result"
    }
   ],
   "source": [
    "df['R_SIG_STR_pct'].dtype"
   ]
  },
  {
   "cell_type": "code",
   "execution_count": 12,
   "metadata": {
    "slideshow": {
     "slide_type": "fragment"
    }
   },
   "outputs": [
    {
     "data": {
      "text/plain": [
       "0    52\n",
       "1    72\n",
       "2    52\n",
       "3    38\n",
       "4    44\n",
       "Name: R_SIG_STR_pct, dtype: object"
      ]
     },
     "execution_count": 12,
     "metadata": {},
     "output_type": "execute_result"
    }
   ],
   "source": [
    "df['R_SIG_STR_pct'].str.replace('%', '').head()"
   ]
  },
  {
   "cell_type": "code",
   "execution_count": 15,
   "metadata": {
    "slideshow": {
     "slide_type": "subslide"
    }
   },
   "outputs": [
    {
     "data": {
      "text/plain": [
       "0    52\n",
       "1    72\n",
       "2    52\n",
       "3    38\n",
       "4    44\n",
       "Name: R_SIG_STR_pct, dtype: int64"
      ]
     },
     "execution_count": 15,
     "metadata": {},
     "output_type": "execute_result"
    }
   ],
   "source": [
    "pd.to_numeric(df['R_SIG_STR_pct'].str.replace('%', '')).head()"
   ]
  },
  {
   "cell_type": "code",
   "execution_count": 16,
   "metadata": {
    "slideshow": {
     "slide_type": "fragment"
    }
   },
   "outputs": [
    {
     "data": {
      "text/plain": [
       "0    0.52\n",
       "1    0.72\n",
       "2    0.52\n",
       "3    0.38\n",
       "4    0.44\n",
       "Name: R_SIG_STR_pct, dtype: float64"
      ]
     },
     "execution_count": 16,
     "metadata": {},
     "output_type": "execute_result"
    }
   ],
   "source": [
    "R_SIG_STR_pct = (pd.to_numeric(df['R_SIG_STR_pct'].str.replace('%', '')) / 100)\n",
    "R_SIG_STR_pct.head()"
   ]
  },
  {
   "cell_type": "markdown",
   "metadata": {
    "slideshow": {
     "slide_type": "slide"
    }
   },
   "source": [
    "### Конвертирование дат"
   ]
  },
  {
   "cell_type": "markdown",
   "metadata": {
    "slideshow": {
     "slide_type": "fragment"
    }
   },
   "source": [
    "<center> <img src=\"3.jpeg\" width=1800>"
   ]
  },
  {
   "cell_type": "code",
   "execution_count": 18,
   "metadata": {
    "slideshow": {
     "slide_type": "subslide"
    }
   },
   "outputs": [
    {
     "data": {
      "text/plain": [
       "0    June 08, 2019\n",
       "1    June 08, 2019\n",
       "2    June 08, 2019\n",
       "3    June 08, 2019\n",
       "4    June 08, 2019\n",
       "Name: date, dtype: object"
      ]
     },
     "execution_count": 18,
     "metadata": {},
     "output_type": "execute_result"
    }
   ],
   "source": [
    "df['date'].head()"
   ]
  },
  {
   "cell_type": "code",
   "execution_count": 19,
   "metadata": {
    "slideshow": {
     "slide_type": "fragment"
    }
   },
   "outputs": [
    {
     "data": {
      "text/plain": [
       "0   2019-06-08\n",
       "1   2019-06-08\n",
       "2   2019-06-08\n",
       "3   2019-06-08\n",
       "4   2019-06-08\n",
       "Name: date, dtype: datetime64[ns]"
      ]
     },
     "execution_count": 19,
     "metadata": {},
     "output_type": "execute_result"
    }
   ],
   "source": [
    "date = pd.to_datetime(df['date'])\n",
    "date.head()"
   ]
  },
  {
   "cell_type": "code",
   "execution_count": 20,
   "metadata": {
    "slideshow": {
     "slide_type": "subslide"
    }
   },
   "outputs": [
    {
     "name": "stdout",
     "output_type": "stream",
     "text": [
      "Прежнее потребление памяти:  371349\n",
      "После конвертации  41232\n",
      "Улучшение в потребляемой памяти 9.01\n"
     ]
    }
   ],
   "source": [
    "old_mem_usage = df['date'].memory_usage(deep='True')\n",
    "new_mem_usage = date.memory_usage(deep='True')\n",
    "print('Прежнее потребление памяти: ', old_mem_usage)\n",
    "print('После конвертации ', new_mem_usage)\n",
    "print(f'Улучшение в потребляемой памяти {old_mem_usage / new_mem_usage:.2f}')"
   ]
  },
  {
   "cell_type": "code",
   "execution_count": 21,
   "metadata": {
    "slideshow": {
     "slide_type": "subslide"
    }
   },
   "outputs": [
    {
     "data": {
      "text/plain": [
       "0    5\n",
       "1    5\n",
       "2    5\n",
       "3    5\n",
       "4    5\n",
       "Name: date, dtype: int64"
      ]
     },
     "execution_count": 21,
     "metadata": {},
     "output_type": "execute_result"
    }
   ],
   "source": [
    "date.dt.dayofweek.head()"
   ]
  },
  {
   "cell_type": "code",
   "execution_count": 22,
   "metadata": {
    "slideshow": {
     "slide_type": "fragment"
    }
   },
   "outputs": [
    {
     "data": {
      "text/plain": [
       "0   2019-06\n",
       "1   2019-06\n",
       "2   2019-06\n",
       "3   2019-06\n",
       "4   2019-06\n",
       "Name: date, dtype: object"
      ]
     },
     "execution_count": 22,
     "metadata": {},
     "output_type": "execute_result"
    }
   ],
   "source": [
    "date.dt.to_period('1M').head()"
   ]
  },
  {
   "cell_type": "markdown",
   "metadata": {
    "slideshow": {
     "slide_type": "subslide"
    }
   },
   "source": [
    "##### потребление RAM"
   ]
  },
  {
   "cell_type": "code",
   "execution_count": 23,
   "metadata": {
    "slideshow": {
     "slide_type": "subslide"
    }
   },
   "outputs": [
    {
     "data": {
      "text/plain": [
       "location      419663\n",
       "Fight_type    389133\n",
       "date          371269\n",
       "Format        362276\n",
       "win_by        359734\n",
       "dtype: int64"
      ]
     },
     "execution_count": 23,
     "metadata": {},
     "output_type": "execute_result"
    }
   ],
   "source": [
    "mem_usage = df.memory_usage(deep=True).sort_values(ascending=False)\n",
    "mem_usage.head()"
   ]
  },
  {
   "cell_type": "markdown",
   "metadata": {
    "slideshow": {
     "slide_type": "slide"
    }
   },
   "source": [
    "### Категории"
   ]
  },
  {
   "cell_type": "markdown",
   "metadata": {
    "slideshow": {
     "slide_type": "fragment"
    }
   },
   "source": [
    "<center> <img src=\"4.jpeg\" width=1800>"
   ]
  },
  {
   "cell_type": "code",
   "execution_count": 24,
   "metadata": {
    "slideshow": {
     "slide_type": "subslide"
    }
   },
   "outputs": [
    {
     "name": "stdout",
     "output_type": "stream",
     "text": [
      "R_fighter 1334\n",
      "B_fighter 1774\n",
      "R_SIG_STR. 3038\n",
      "B_SIG_STR. 2903\n",
      "R_SIG_STR_pct 95\n",
      "B_SIG_STR_pct 90\n",
      "R_TOTAL_STR. 3681\n",
      "B_TOTAL_STR. 3479\n",
      "R_TD 157\n",
      "B_TD 154\n",
      "R_TD_pct 69\n",
      "B_TD_pct 62\n",
      "R_HEAD 2620\n",
      "B_HEAD 2475\n",
      "R_BODY 541\n",
      "B_BODY 508\n",
      "R_LEG 393\n",
      "B_LEG 355\n",
      "R_DISTANCE 2382\n",
      "B_DISTANCE 2391\n",
      "R_CLINCH 472\n",
      "B_CLINCH 469\n",
      "R_GROUND 641\n",
      "B_GROUND 465\n",
      "win_by 10\n",
      "last_round_time 333\n",
      "Format 19\n",
      "Referee 190\n",
      "date 476\n",
      "location 157\n",
      "Fight_type 112\n",
      "Winner 1267\n"
     ]
    }
   ],
   "source": [
    "for column_name in df.select_dtypes(include='object'):\n",
    "    print(column_name, df[column_name].nunique())"
   ]
  },
  {
   "cell_type": "code",
   "execution_count": 25,
   "metadata": {
    "slideshow": {
     "slide_type": "subslide"
    }
   },
   "outputs": [
    {
     "name": "stdout",
     "output_type": "stream",
     "text": [
      "['KO/TKO', \"TKO - Doctor's Stoppage\", 'Decision - Unanimous', 'Submission', 'Decision - Split', 'Decision - Majority', 'DQ', 'Overturned', 'Could Not Continue', 'Other']\n"
     ]
    }
   ],
   "source": [
    "print(df['win_by'].unique().tolist())\n",
    "categories = [\n",
    "     'Не категория',\n",
    "     'KO/TKO',\n",
    "     \"TKO - Doctor's Stoppage\",\n",
    "     'Decision - Unanimous',\n",
    "     'Submission',\n",
    "     'Decision - Split',\n",
    "     'Decision - Majority',\n",
    "     'DQ',\n",
    "     'Overturned',\n",
    "     'Could Not Continue',\n",
    "     'Other',\n",
    "\n",
    "]"
   ]
  },
  {
   "cell_type": "code",
   "execution_count": 26,
   "metadata": {
    "slideshow": {
     "slide_type": "subslide"
    }
   },
   "outputs": [
    {
     "data": {
      "text/plain": [
       "0                     KO/TKO\n",
       "1                     KO/TKO\n",
       "2    TKO - Doctor's Stoppage\n",
       "3       Decision - Unanimous\n",
       "4       Decision - Unanimous\n",
       "dtype: category\n",
       "Categories (11, object): [Не категория < KO/TKO < TKO - Doctor's Stoppage < Decision - Unanimous ... DQ < Overturned < Could Not Continue < Other]"
      ]
     },
     "execution_count": 26,
     "metadata": {},
     "output_type": "execute_result"
    }
   ],
   "source": [
    "raw_cats = pd.Categorical(df['win_by'], categories=categories, ordered=True)\n",
    "win_by = pd.Series(raw_cats)\n",
    "win_by.head()"
   ]
  },
  {
   "cell_type": "code",
   "execution_count": 27,
   "metadata": {
    "slideshow": {
     "slide_type": "fragment"
    }
   },
   "outputs": [
    {
     "data": {
      "text/plain": [
       "0                     KO/TKO\n",
       "1                     KO/TKO\n",
       "2    TKO - Doctor's Stoppage\n",
       "3       Decision - Unanimous\n",
       "4       Decision - Unanimous\n",
       "dtype: category\n",
       "Categories (11, object): [Не категория, KO/TKO, TKO - Doctor's Stoppage, Decision - Unanimous, ..., DQ, Overturned, Could Not Continue, Other]"
      ]
     },
     "execution_count": 27,
     "metadata": {},
     "output_type": "execute_result"
    }
   ],
   "source": [
    "raw_cats = pd.Categorical(df['win_by'], categories=categories, ordered=False)\n",
    "win_by = pd.Series(raw_cats)\n",
    "win_by.head()"
   ]
  },
  {
   "cell_type": "code",
   "execution_count": 28,
   "metadata": {
    "slideshow": {
     "slide_type": "subslide"
    }
   },
   "outputs": [
    {
     "data": {
      "text/plain": [
       "0                     KO/TKO\n",
       "1                     KO/TKO\n",
       "2    TKO - Doctor's Stoppage\n",
       "3       Decision - Unanimous\n",
       "4       Decision - Unanimous\n",
       "dtype: category\n",
       "Categories (11, object): [Не категория < KO/TKO < TKO - Doctor's Stoppage < Decision - Unanimous ... DQ < Overturned < Could Not Continue < Other]"
      ]
     },
     "execution_count": 28,
     "metadata": {},
     "output_type": "execute_result"
    }
   ],
   "source": [
    "raw_cats = pd.Categorical(df['win_by'], categories=categories, ordered=True)\n",
    "win_by = pd.Series(raw_cats)\n",
    "win_by.head()"
   ]
  },
  {
   "cell_type": "markdown",
   "metadata": {
    "slideshow": {
     "slide_type": "subslide"
    }
   },
   "source": [
    "Ну или просто"
   ]
  },
  {
   "cell_type": "code",
   "execution_count": 30,
   "metadata": {
    "slideshow": {
     "slide_type": "fragment"
    }
   },
   "outputs": [
    {
     "data": {
      "text/plain": [
       "0                     KO/TKO\n",
       "1                     KO/TKO\n",
       "2    TKO - Doctor's Stoppage\n",
       "3       Decision - Unanimous\n",
       "4       Decision - Unanimous\n",
       "Name: win_by, dtype: category\n",
       "Categories (10, object): [Could Not Continue, DQ, Decision - Majority, Decision - Split, ..., Other, Overturned, Submission, TKO - Doctor's Stoppage]"
      ]
     },
     "execution_count": 30,
     "metadata": {},
     "output_type": "execute_result"
    }
   ],
   "source": [
    "df['win_by'].astype('category').head()"
   ]
  },
  {
   "cell_type": "code",
   "execution_count": 31,
   "metadata": {
    "slideshow": {
     "slide_type": "subslide"
    }
   },
   "outputs": [
    {
     "name": "stdout",
     "output_type": "stream",
     "text": [
      "Прежнее потребление памяти:  359814\n",
      "После конвертации  6373\n",
      "Улучшение в потребляемой памяти 56.46\n"
     ]
    }
   ],
   "source": [
    "old_mem_usage = df['win_by'].memory_usage(deep='True')\n",
    "new_mem_usage = win_by.memory_usage(deep='True')\n",
    "print('Прежнее потребление памяти: ', old_mem_usage)\n",
    "print('После конвертации ', new_mem_usage)\n",
    "print(f'Улучшение в потребляемой памяти {old_mem_usage / new_mem_usage:.2f}')"
   ]
  },
  {
   "cell_type": "markdown",
   "metadata": {
    "slideshow": {
     "slide_type": "slide"
    }
   },
   "source": [
    "### Groupby"
   ]
  },
  {
   "cell_type": "markdown",
   "metadata": {
    "slideshow": {
     "slide_type": "fragment"
    }
   },
   "source": [
    "<center> <img src=\"groupby.jpeg\" width=1800>"
   ]
  },
  {
   "cell_type": "code",
   "execution_count": 32,
   "metadata": {
    "slideshow": {
     "slide_type": "subslide"
    }
   },
   "outputs": [
    {
     "data": {
      "text/plain": [
       "<pandas.core.groupby.groupby.SeriesGroupBy object at 0x7f918287ec88>"
      ]
     },
     "execution_count": 32,
     "metadata": {},
     "output_type": "execute_result"
    }
   ],
   "source": [
    "df.groupby('Winner').last_round"
   ]
  },
  {
   "cell_type": "code",
   "execution_count": 33,
   "metadata": {
    "slideshow": {
     "slide_type": "fragment"
    }
   },
   "outputs": [
    {
     "data": {
      "text/plain": [
       "Winner\n",
       "Aaron Riley             3.000000\n",
       "Aaron Rosa              3.000000\n",
       "Aaron Simpson           2.571429\n",
       "Abdul Razak Alhassan    1.000000\n",
       "Abdul-Kerim Edilov      2.000000\n",
       "Name: last_round, dtype: float64"
      ]
     },
     "execution_count": 33,
     "metadata": {},
     "output_type": "execute_result"
    }
   ],
   "source": [
    "df.groupby('Winner').last_round.mean().head()"
   ]
  },
  {
   "cell_type": "code",
   "execution_count": 36,
   "metadata": {
    "slideshow": {
     "slide_type": "subslide"
    }
   },
   "outputs": [
    {
     "data": {
      "text/html": [
       "<div>\n",
       "<style scoped>\n",
       "    .dataframe tbody tr th:only-of-type {\n",
       "        vertical-align: middle;\n",
       "    }\n",
       "\n",
       "    .dataframe tbody tr th {\n",
       "        vertical-align: top;\n",
       "    }\n",
       "\n",
       "    .dataframe thead th {\n",
       "        text-align: right;\n",
       "    }\n",
       "</style>\n",
       "<table border=\"1\" class=\"dataframe\">\n",
       "  <thead>\n",
       "    <tr style=\"text-align: right;\">\n",
       "      <th></th>\n",
       "      <th>mean</th>\n",
       "      <th>std</th>\n",
       "      <th>size</th>\n",
       "      <th>&lt;lambda&gt;</th>\n",
       "    </tr>\n",
       "    <tr>\n",
       "      <th>Winner</th>\n",
       "      <th></th>\n",
       "      <th></th>\n",
       "      <th></th>\n",
       "      <th></th>\n",
       "    </tr>\n",
       "  </thead>\n",
       "  <tbody>\n",
       "    <tr>\n",
       "      <th>Aaron Riley</th>\n",
       "      <td>3.000000</td>\n",
       "      <td>0.000000</td>\n",
       "      <td>3</td>\n",
       "      <td>3</td>\n",
       "    </tr>\n",
       "    <tr>\n",
       "      <th>Aaron Rosa</th>\n",
       "      <td>3.000000</td>\n",
       "      <td>NaN</td>\n",
       "      <td>1</td>\n",
       "      <td>3</td>\n",
       "    </tr>\n",
       "    <tr>\n",
       "      <th>Aaron Simpson</th>\n",
       "      <td>2.571429</td>\n",
       "      <td>0.786796</td>\n",
       "      <td>7</td>\n",
       "      <td>3</td>\n",
       "    </tr>\n",
       "    <tr>\n",
       "      <th>Abdul Razak Alhassan</th>\n",
       "      <td>1.000000</td>\n",
       "      <td>0.000000</td>\n",
       "      <td>4</td>\n",
       "      <td>1</td>\n",
       "    </tr>\n",
       "    <tr>\n",
       "      <th>Abdul-Kerim Edilov</th>\n",
       "      <td>2.000000</td>\n",
       "      <td>NaN</td>\n",
       "      <td>1</td>\n",
       "      <td>2</td>\n",
       "    </tr>\n",
       "  </tbody>\n",
       "</table>\n",
       "</div>"
      ],
      "text/plain": [
       "                          mean       std  size  <lambda>\n",
       "Winner                                                  \n",
       "Aaron Riley           3.000000  0.000000     3         3\n",
       "Aaron Rosa            3.000000       NaN     1         3\n",
       "Aaron Simpson         2.571429  0.786796     7         3\n",
       "Abdul Razak Alhassan  1.000000  0.000000     4         1\n",
       "Abdul-Kerim Edilov    2.000000       NaN     1         2"
      ]
     },
     "execution_count": 36,
     "metadata": {},
     "output_type": "execute_result"
    }
   ],
   "source": [
    "df.groupby('Winner')['last_round'].agg(['mean', 'std', 'size', lambda x: max(x)]).head()"
   ]
  },
  {
   "cell_type": "code",
   "execution_count": 39,
   "metadata": {
    "slideshow": {
     "slide_type": "subslide"
    }
   },
   "outputs": [
    {
     "data": {
      "text/plain": [
       "Winner         win_by              \n",
       "Aaron Riley    Decision - Unanimous    3.0\n",
       "Aaron Rosa     Decision - Majority     3.0\n",
       "Aaron Simpson  Decision - Split        3.0\n",
       "               Decision - Unanimous    3.0\n",
       "               KO/TKO                  1.5\n",
       "Name: last_round, dtype: float64"
      ]
     },
     "execution_count": 39,
     "metadata": {},
     "output_type": "execute_result"
    }
   ],
   "source": [
    "df.groupby(['Winner', 'win_by'])['last_round'].mean().head()"
   ]
  },
  {
   "cell_type": "markdown",
   "metadata": {
    "slideshow": {
     "slide_type": "slide"
    }
   },
   "source": [
    "### Resample"
   ]
  },
  {
   "cell_type": "markdown",
   "metadata": {
    "slideshow": {
     "slide_type": "fragment"
    }
   },
   "source": [
    "<center> <img src=\"pandalast.jpeg\" width=1800>\n"
   ]
  },
  {
   "cell_type": "code",
   "execution_count": 40,
   "metadata": {
    "slideshow": {
     "slide_type": "subslide"
    }
   },
   "outputs": [
    {
     "data": {
      "text/html": [
       "<div>\n",
       "<style scoped>\n",
       "    .dataframe tbody tr th:only-of-type {\n",
       "        vertical-align: middle;\n",
       "    }\n",
       "\n",
       "    .dataframe tbody tr th {\n",
       "        vertical-align: top;\n",
       "    }\n",
       "\n",
       "    .dataframe thead th {\n",
       "        text-align: right;\n",
       "    }\n",
       "</style>\n",
       "<table border=\"1\" class=\"dataframe\">\n",
       "  <thead>\n",
       "    <tr style=\"text-align: right;\">\n",
       "      <th></th>\n",
       "      <th>R_fighter</th>\n",
       "      <th>B_fighter</th>\n",
       "      <th>R_KD</th>\n",
       "      <th>B_KD</th>\n",
       "      <th>R_SIG_STR.</th>\n",
       "      <th>B_SIG_STR.</th>\n",
       "      <th>R_SIG_STR_pct</th>\n",
       "      <th>B_SIG_STR_pct</th>\n",
       "      <th>R_TOTAL_STR.</th>\n",
       "      <th>B_TOTAL_STR.</th>\n",
       "      <th>...</th>\n",
       "      <th>B_GROUND</th>\n",
       "      <th>win_by</th>\n",
       "      <th>last_round</th>\n",
       "      <th>last_round_time</th>\n",
       "      <th>Format</th>\n",
       "      <th>Referee</th>\n",
       "      <th>date</th>\n",
       "      <th>location</th>\n",
       "      <th>Fight_type</th>\n",
       "      <th>Winner</th>\n",
       "    </tr>\n",
       "    <tr>\n",
       "      <th>date</th>\n",
       "      <th></th>\n",
       "      <th></th>\n",
       "      <th></th>\n",
       "      <th></th>\n",
       "      <th></th>\n",
       "      <th></th>\n",
       "      <th></th>\n",
       "      <th></th>\n",
       "      <th></th>\n",
       "      <th></th>\n",
       "      <th></th>\n",
       "      <th></th>\n",
       "      <th></th>\n",
       "      <th></th>\n",
       "      <th></th>\n",
       "      <th></th>\n",
       "      <th></th>\n",
       "      <th></th>\n",
       "      <th></th>\n",
       "      <th></th>\n",
       "      <th></th>\n",
       "    </tr>\n",
       "  </thead>\n",
       "  <tbody>\n",
       "    <tr>\n",
       "      <th>2019-06-08</th>\n",
       "      <td>Henry Cejudo</td>\n",
       "      <td>Marlon Moraes</td>\n",
       "      <td>0</td>\n",
       "      <td>0</td>\n",
       "      <td>90 of 171</td>\n",
       "      <td>57 of 119</td>\n",
       "      <td>52%</td>\n",
       "      <td>47%</td>\n",
       "      <td>99 of 182</td>\n",
       "      <td>59 of 121</td>\n",
       "      <td>...</td>\n",
       "      <td>1 of 1</td>\n",
       "      <td>KO/TKO</td>\n",
       "      <td>3</td>\n",
       "      <td>4:51</td>\n",
       "      <td>5 Rnd (5-5-5-5-5)</td>\n",
       "      <td>Marc Goddard</td>\n",
       "      <td>June 08, 2019</td>\n",
       "      <td>Chicago, Illinois, USA</td>\n",
       "      <td>UFC Bantamweight Title Bout</td>\n",
       "      <td>Henry Cejudo</td>\n",
       "    </tr>\n",
       "    <tr>\n",
       "      <th>2019-06-08</th>\n",
       "      <td>Valentina Shevchenko</td>\n",
       "      <td>Jessica Eye</td>\n",
       "      <td>1</td>\n",
       "      <td>0</td>\n",
       "      <td>8 of 11</td>\n",
       "      <td>2 of 12</td>\n",
       "      <td>72%</td>\n",
       "      <td>16%</td>\n",
       "      <td>37 of 40</td>\n",
       "      <td>42 of 52</td>\n",
       "      <td>...</td>\n",
       "      <td>0 of 0</td>\n",
       "      <td>KO/TKO</td>\n",
       "      <td>2</td>\n",
       "      <td>0:26</td>\n",
       "      <td>5 Rnd (5-5-5-5-5)</td>\n",
       "      <td>Robert Madrigal</td>\n",
       "      <td>June 08, 2019</td>\n",
       "      <td>Chicago, Illinois, USA</td>\n",
       "      <td>UFC Women's Flyweight Title Bout</td>\n",
       "      <td>Valentina Shevchenko</td>\n",
       "    </tr>\n",
       "    <tr>\n",
       "      <th>2019-06-08</th>\n",
       "      <td>Tony Ferguson</td>\n",
       "      <td>Donald Cerrone</td>\n",
       "      <td>0</td>\n",
       "      <td>0</td>\n",
       "      <td>104 of 200</td>\n",
       "      <td>68 of 185</td>\n",
       "      <td>52%</td>\n",
       "      <td>36%</td>\n",
       "      <td>104 of 200</td>\n",
       "      <td>68 of 185</td>\n",
       "      <td>...</td>\n",
       "      <td>0 of 0</td>\n",
       "      <td>TKO - Doctor's Stoppage</td>\n",
       "      <td>2</td>\n",
       "      <td>5:00</td>\n",
       "      <td>3 Rnd (5-5-5)</td>\n",
       "      <td>Dan Miragliotta</td>\n",
       "      <td>June 08, 2019</td>\n",
       "      <td>Chicago, Illinois, USA</td>\n",
       "      <td>Lightweight Bout</td>\n",
       "      <td>Tony Ferguson</td>\n",
       "    </tr>\n",
       "    <tr>\n",
       "      <th>2019-06-08</th>\n",
       "      <td>Jimmie Rivera</td>\n",
       "      <td>Petr Yan</td>\n",
       "      <td>0</td>\n",
       "      <td>2</td>\n",
       "      <td>73 of 192</td>\n",
       "      <td>56 of 189</td>\n",
       "      <td>38%</td>\n",
       "      <td>29%</td>\n",
       "      <td>76 of 195</td>\n",
       "      <td>58 of 192</td>\n",
       "      <td>...</td>\n",
       "      <td>4 of 10</td>\n",
       "      <td>Decision - Unanimous</td>\n",
       "      <td>3</td>\n",
       "      <td>5:00</td>\n",
       "      <td>3 Rnd (5-5-5)</td>\n",
       "      <td>Kevin MacDonald</td>\n",
       "      <td>June 08, 2019</td>\n",
       "      <td>Chicago, Illinois, USA</td>\n",
       "      <td>Bantamweight Bout</td>\n",
       "      <td>Petr Yan</td>\n",
       "    </tr>\n",
       "    <tr>\n",
       "      <th>2019-06-08</th>\n",
       "      <td>Tai Tuivasa</td>\n",
       "      <td>Blagoy Ivanov</td>\n",
       "      <td>0</td>\n",
       "      <td>1</td>\n",
       "      <td>64 of 144</td>\n",
       "      <td>73 of 123</td>\n",
       "      <td>44%</td>\n",
       "      <td>59%</td>\n",
       "      <td>66 of 146</td>\n",
       "      <td>81 of 131</td>\n",
       "      <td>...</td>\n",
       "      <td>6 of 6</td>\n",
       "      <td>Decision - Unanimous</td>\n",
       "      <td>3</td>\n",
       "      <td>5:00</td>\n",
       "      <td>3 Rnd (5-5-5)</td>\n",
       "      <td>Dan Miragliotta</td>\n",
       "      <td>June 08, 2019</td>\n",
       "      <td>Chicago, Illinois, USA</td>\n",
       "      <td>Heavyweight Bout</td>\n",
       "      <td>Blagoy Ivanov</td>\n",
       "    </tr>\n",
       "  </tbody>\n",
       "</table>\n",
       "<p>5 rows × 41 columns</p>\n",
       "</div>"
      ],
      "text/plain": [
       "                       R_fighter       B_fighter  R_KD  B_KD  R_SIG_STR.  \\\n",
       "date                                                                       \n",
       "2019-06-08          Henry Cejudo   Marlon Moraes     0     0   90 of 171   \n",
       "2019-06-08  Valentina Shevchenko     Jessica Eye     1     0     8 of 11   \n",
       "2019-06-08         Tony Ferguson  Donald Cerrone     0     0  104 of 200   \n",
       "2019-06-08         Jimmie Rivera        Petr Yan     0     2   73 of 192   \n",
       "2019-06-08           Tai Tuivasa   Blagoy Ivanov     0     1   64 of 144   \n",
       "\n",
       "           B_SIG_STR. R_SIG_STR_pct B_SIG_STR_pct R_TOTAL_STR. B_TOTAL_STR.  \\\n",
       "date                                                                          \n",
       "2019-06-08  57 of 119           52%           47%    99 of 182    59 of 121   \n",
       "2019-06-08    2 of 12           72%           16%     37 of 40     42 of 52   \n",
       "2019-06-08  68 of 185           52%           36%   104 of 200    68 of 185   \n",
       "2019-06-08  56 of 189           38%           29%    76 of 195    58 of 192   \n",
       "2019-06-08  73 of 123           44%           59%    66 of 146    81 of 131   \n",
       "\n",
       "                    ...          B_GROUND                   win_by last_round  \\\n",
       "date                ...                                                         \n",
       "2019-06-08          ...            1 of 1                   KO/TKO          3   \n",
       "2019-06-08          ...            0 of 0                   KO/TKO          2   \n",
       "2019-06-08          ...            0 of 0  TKO - Doctor's Stoppage          2   \n",
       "2019-06-08          ...           4 of 10     Decision - Unanimous          3   \n",
       "2019-06-08          ...            6 of 6     Decision - Unanimous          3   \n",
       "\n",
       "           last_round_time             Format          Referee           date  \\\n",
       "date                                                                            \n",
       "2019-06-08            4:51  5 Rnd (5-5-5-5-5)     Marc Goddard  June 08, 2019   \n",
       "2019-06-08            0:26  5 Rnd (5-5-5-5-5)  Robert Madrigal  June 08, 2019   \n",
       "2019-06-08            5:00      3 Rnd (5-5-5)  Dan Miragliotta  June 08, 2019   \n",
       "2019-06-08            5:00      3 Rnd (5-5-5)  Kevin MacDonald  June 08, 2019   \n",
       "2019-06-08            5:00      3 Rnd (5-5-5)  Dan Miragliotta  June 08, 2019   \n",
       "\n",
       "                          location                        Fight_type  \\\n",
       "date                                                                   \n",
       "2019-06-08  Chicago, Illinois, USA       UFC Bantamweight Title Bout   \n",
       "2019-06-08  Chicago, Illinois, USA  UFC Women's Flyweight Title Bout   \n",
       "2019-06-08  Chicago, Illinois, USA                  Lightweight Bout   \n",
       "2019-06-08  Chicago, Illinois, USA                 Bantamweight Bout   \n",
       "2019-06-08  Chicago, Illinois, USA                  Heavyweight Bout   \n",
       "\n",
       "                          Winner  \n",
       "date                              \n",
       "2019-06-08          Henry Cejudo  \n",
       "2019-06-08  Valentina Shevchenko  \n",
       "2019-06-08         Tony Ferguson  \n",
       "2019-06-08              Petr Yan  \n",
       "2019-06-08         Blagoy Ivanov  \n",
       "\n",
       "[5 rows x 41 columns]"
      ]
     },
     "execution_count": 40,
     "metadata": {},
     "output_type": "execute_result"
    }
   ],
   "source": [
    "df = df.set_index(date)\n",
    "df.head()"
   ]
  },
  {
   "cell_type": "code",
   "execution_count": 41,
   "metadata": {
    "slideshow": {
     "slide_type": "subslide"
    }
   },
   "outputs": [
    {
     "data": {
      "text/plain": [
       "date\n",
       "2019-02-28    2.183673\n",
       "2019-03-31    2.451613\n",
       "2019-04-30    2.540541\n",
       "2019-05-31    2.567568\n",
       "2019-06-30    2.520000\n",
       "Freq: M, Name: last_round, dtype: float64"
      ]
     },
     "execution_count": 41,
     "metadata": {},
     "output_type": "execute_result"
    }
   ],
   "source": [
    "df.resample('1M')['last_round'].mean().tail(5)"
   ]
  },
  {
   "cell_type": "markdown",
   "metadata": {
    "slideshow": {
     "slide_type": "slide"
    }
   },
   "source": [
    "### Method Chaining"
   ]
  },
  {
   "cell_type": "markdown",
   "metadata": {
    "slideshow": {
     "slide_type": "fragment"
    }
   },
   "source": [
    "<center> <img src=\"redpanda.jpeg\" width=1800>\n"
   ]
  },
  {
   "cell_type": "code",
   "execution_count": 42,
   "metadata": {
    "slideshow": {
     "slide_type": "subslide"
    }
   },
   "outputs": [
    {
     "data": {
      "text/plain": [
       "Index(['R_fighter', 'B_fighter', 'R_KD', 'B_KD', 'R_SIG_STR.', 'B_SIG_STR.',\n",
       "       'R_SIG_STR_pct', 'B_SIG_STR_pct', 'R_TOTAL_STR.', 'B_TOTAL_STR.',\n",
       "       'R_TD', 'B_TD', 'R_TD_pct', 'B_TD_pct', 'R_SUB_ATT', 'B_SUB_ATT',\n",
       "       'R_PASS', 'B_PASS', 'R_REV', 'B_REV', 'R_HEAD', 'B_HEAD', 'R_BODY',\n",
       "       'B_BODY', 'R_LEG', 'B_LEG', 'R_DISTANCE', 'B_DISTANCE', 'R_CLINCH',\n",
       "       'B_CLINCH', 'R_GROUND', 'B_GROUND', 'win_by', 'last_round',\n",
       "       'last_round_time', 'Format', 'Referee', 'date', 'location',\n",
       "       'Fight_type', 'Winner'],\n",
       "      dtype='object')"
      ]
     },
     "execution_count": 42,
     "metadata": {},
     "output_type": "execute_result"
    }
   ],
   "source": [
    "df.columns"
   ]
  },
  {
   "cell_type": "code",
   "execution_count": 43,
   "metadata": {
    "slideshow": {
     "slide_type": "subslide"
    }
   },
   "outputs": [],
   "source": [
    "%matplotlib inline\n",
    "import matplotlib.pyplot as plt\n",
    "import seaborn as sns\n",
    "plt.style.use('seaborn')"
   ]
  },
  {
   "cell_type": "code",
   "execution_count": 44,
   "metadata": {
    "slideshow": {
     "slide_type": "fragment"
    }
   },
   "outputs": [
    {
     "data": {
      "image/png": "[encoded data removed]",
      "text/plain": [
       "<Figure size 1080x648 with 1 Axes>"
      ]
     },
     "metadata": {
      "needs_background": "light"
     },
     "output_type": "display_data"
    }
   ],
   "source": [
    "df = df.set_index(date)\n",
    "last_round_data = df.resample('1M')['last_round'].mean()\n",
    "last_round_data = last_round_data.fillna(0)\n",
    "filtered_last_round_data = last_round_data['2014-01-01':]\n",
    "filtered_last_round_data.plot(figsize=(15, 9));"
   ]
  },
  {
   "cell_type": "code",
   "execution_count": 45,
   "metadata": {
    "slideshow": {
     "slide_type": "subslide"
    }
   },
   "outputs": [
    {
     "data": {
      "image/png": "[encoded data removed]",
      "text/plain": [
       "<Figure size 1080x648 with 1 Axes>"
      ]
     },
     "metadata": {
      "needs_background": "light"
     },
     "output_type": "display_data"
    }
   ],
   "source": [
    "(\n",
    "    df.set_index(date)\n",
    "    .resample('1M')\n",
    "    ['last_round'].mean()\n",
    "    .fillna(0)\n",
    "    .loc['2014-01-01':]\n",
    "    .plot(figsize=(15, 9))\n",
    ");"
   ]
  },
  {
   "cell_type": "code",
   "execution_count": 60,
   "metadata": {},
   "outputs": [
    {
     "data": {
      "text/plain": [
       "date        cities   \n",
       "1993-11-30  Denver       1.000000\n",
       "1994-03-31  Denver       1.000000\n",
       "1994-09-30  Charlotte    1.000000\n",
       "1994-12-31  Tulsa        1.000000\n",
       "1995-04-30  Charlotte    1.111111\n",
       "Name: last_round, dtype: float64"
      ]
     },
     "execution_count": 60,
     "metadata": {},
     "output_type": "execute_result"
    }
   ],
   "source": [
    "slicer = pd.IndexSlice\n",
    "(\n",
    "    df.assign(cities = lambda x: x['location'].str.split(',').str[0])\n",
    "      .groupby([pd.Grouper(level=0, freq='1m'), 'cities'])\n",
    "      ['last_round']\n",
    "      .mean()\n",
    "      .loc[slicer['2014-01-01':, :], :]\n",
    "      .head()\n",
    "      #.plot(figsize=(15, 9))\n",
    ")"
   ]
  },
  {
   "cell_type": "markdown",
   "metadata": {},
   "source": [
    "Resources"
   ]
  },
  {
   "cell_type": "code",
   "execution_count": null,
   "metadata": {},
   "outputs": [],
   "source": []
  }
 ],
 "metadata": {
  "celltoolbar": "Slideshow",
  "kernelspec": {
   "display_name": "Python 3",
   "language": "python",
   "name": "python3"
  },
  "language_info": {
   "codemirror_mode": {
    "name": "ipython",
    "version": 3
   },
   "file_extension": ".py",
   "mimetype": "text/x-python",
   "name": "python",
   "nbconvert_exporter": "python",
   "pygments_lexer": "ipython3",
   "version": "3.7.1"
  }
 },
 "nbformat": 4,
 "nbformat_minor": 2
}
