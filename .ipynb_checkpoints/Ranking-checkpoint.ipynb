{
 "cells": [
  {
   "cell_type": "code",
   "execution_count": 1,
   "metadata": {},
   "outputs": [],
   "source": [
    "import json\n",
    "import pandas as pd\n",
    "import numpy as np"
   ]
  },
  {
   "cell_type": "code",
   "execution_count": 2,
   "metadata": {},
   "outputs": [
    {
     "data": {
      "text/plain": [
       "['_id',\n",
       " 'updatedAt',\n",
       " 'createdAt',\n",
       " 'ip',\n",
       " 'destination',\n",
       " 'departureDate',\n",
       " 'returnDate',\n",
       " 'status',\n",
       " 'originCoordinates',\n",
       " '__v']"
      ]
     },
     "execution_count": 2,
     "metadata": {},
     "output_type": "execute_result"
    }
   ],
   "source": [
    "df = pd.read_csv('history.csv', sep=';')\n",
    "columns = df.columns\n",
    "columns = columns.str.split(',')[0]\n",
    "columns"
   ]
  },
  {
   "cell_type": "code",
   "execution_count": 3,
   "metadata": {},
   "outputs": [
    {
     "data": {
      "text/html": [
       "<div>\n",
       "<style scoped>\n",
       "    .dataframe tbody tr th:only-of-type {\n",
       "        vertical-align: middle;\n",
       "    }\n",
       "\n",
       "    .dataframe tbody tr th {\n",
       "        vertical-align: top;\n",
       "    }\n",
       "\n",
       "    .dataframe thead th {\n",
       "        text-align: right;\n",
       "    }\n",
       "</style>\n",
       "<table border=\"1\" class=\"dataframe\">\n",
       "  <thead>\n",
       "    <tr style=\"text-align: right;\">\n",
       "      <th></th>\n",
       "      <th>0</th>\n",
       "      <th>1</th>\n",
       "      <th>2</th>\n",
       "      <th>3</th>\n",
       "      <th>4</th>\n",
       "      <th>5</th>\n",
       "      <th>6</th>\n",
       "      <th>7</th>\n",
       "      <th>8</th>\n",
       "      <th>9</th>\n",
       "      <th>10</th>\n",
       "      <th>11</th>\n",
       "    </tr>\n",
       "  </thead>\n",
       "  <tbody>\n",
       "    <tr>\n",
       "      <th>0</th>\n",
       "      <td>ObjectId(\"5d660ba26aa69634ecbc2781\")</td>\n",
       "      <td>\"\"2019-08-28T05:05:38.563Z\"\"</td>\n",
       "      <td>\"\"2019-08-28T05:05:38.563Z\"\"</td>\n",
       "      <td>62.105.128.0</td>\n",
       "      <td>ObjectId(\"5d540324ef8c095bfe8f5fe0\")</td>\n",
       "      <td>\"\"2019-08-25T00:00:00.000Z\"\"</td>\n",
       "      <td>\"\"2019-09-05T00:00:00.000Z\"\"</td>\n",
       "      <td>ACTIVE</td>\n",
       "      <td>\"{\"lat\":55.755786</td>\n",
       "      <td>\"lon\":37.617633}\"</td>\n",
       "      <td>0</td>\n",
       "      <td>None</td>\n",
       "    </tr>\n",
       "    <tr>\n",
       "      <th>1</th>\n",
       "      <td>ObjectId(\"5d660d46a3b52f38bc103c0b\")</td>\n",
       "      <td>\"\"2019-08-28T05:12:38.971Z\"\"</td>\n",
       "      <td>\"\"2019-08-28T05:12:38.971Z\"\"</td>\n",
       "      <td>62.105.128.0</td>\n",
       "      <td>ObjectId(\"5d540324ef8c095bfe8f5fe0\")</td>\n",
       "      <td>\"\"2019-08-25T00:00:00.000Z\"\"</td>\n",
       "      <td>\"\"2019-09-05T00:00:00.000Z\"\"</td>\n",
       "      <td>ACTIVE</td>\n",
       "      <td>\"{\"lat\":55.755786</td>\n",
       "      <td>\"lon\":37.617633}\"</td>\n",
       "      <td>0</td>\n",
       "      <td>None</td>\n",
       "    </tr>\n",
       "    <tr>\n",
       "      <th>2</th>\n",
       "      <td>ObjectId(\"5d660dd683546a38f10bcf05\")</td>\n",
       "      <td>\"\"2019-08-28T05:15:02.601Z\"\"</td>\n",
       "      <td>\"\"2019-08-28T05:15:02.601Z\"\"</td>\n",
       "      <td>62.105.128.0</td>\n",
       "      <td>ObjectId(\"5d5401a9ef8c095bfe8f5e2e\")</td>\n",
       "      <td>\"\"2019-08-25T00:00:00.000Z\"\"</td>\n",
       "      <td>\"\"2019-09-05T00:00:00.000Z\"\"</td>\n",
       "      <td>ACTIVE</td>\n",
       "      <td>\"{\"lat\":55.755786</td>\n",
       "      <td>\"lon\":37.617633}\"</td>\n",
       "      <td>0</td>\n",
       "      <td>None</td>\n",
       "    </tr>\n",
       "    <tr>\n",
       "      <th>3</th>\n",
       "      <td>ObjectId(\"5d660e53cad80b39f5c9c1f7\")</td>\n",
       "      <td>\"\"2019-08-28T05:17:07.754Z\"\"</td>\n",
       "      <td>\"\"2019-08-28T05:17:07.754Z\"\"</td>\n",
       "      <td>62.105.128.0</td>\n",
       "      <td>ObjectId(\"5d540264ef8c095bfe8f5f04\")</td>\n",
       "      <td>\"\"2019-08-25T00:00:00.000Z\"\"</td>\n",
       "      <td>\"\"2019-09-05T00:00:00.000Z\"\"</td>\n",
       "      <td>ACTIVE</td>\n",
       "      <td>\"{\"lat\":55.755786</td>\n",
       "      <td>\"lon\":37.617633}\"</td>\n",
       "      <td>0</td>\n",
       "      <td>None</td>\n",
       "    </tr>\n",
       "    <tr>\n",
       "      <th>4</th>\n",
       "      <td>ObjectId(\"5d660e66cad80b39f5c9c1f8\")</td>\n",
       "      <td>\"\"2019-08-28T05:17:26.258Z\"\"</td>\n",
       "      <td>\"\"2019-08-28T05:17:26.258Z\"\"</td>\n",
       "      <td>62.105.128.0</td>\n",
       "      <td>ObjectId(\"5d540264ef8c095bfe8f5f04\")</td>\n",
       "      <td>\"\"2019-09-25T00:00:00.000Z\"\"</td>\n",
       "      <td>\"\"2019-10-05T00:00:00.000Z\"\"</td>\n",
       "      <td>ACTIVE</td>\n",
       "      <td>\"{\"lat\":55.755786</td>\n",
       "      <td>\"lon\":37.617633}\"</td>\n",
       "      <td>0</td>\n",
       "      <td>None</td>\n",
       "    </tr>\n",
       "  </tbody>\n",
       "</table>\n",
       "</div>"
      ],
      "text/plain": [
       "                                     0                             1   \\\n",
       "0  ObjectId(\"5d660ba26aa69634ecbc2781\")  \"\"2019-08-28T05:05:38.563Z\"\"   \n",
       "1  ObjectId(\"5d660d46a3b52f38bc103c0b\")  \"\"2019-08-28T05:12:38.971Z\"\"   \n",
       "2  ObjectId(\"5d660dd683546a38f10bcf05\")  \"\"2019-08-28T05:15:02.601Z\"\"   \n",
       "3  ObjectId(\"5d660e53cad80b39f5c9c1f7\")  \"\"2019-08-28T05:17:07.754Z\"\"   \n",
       "4  ObjectId(\"5d660e66cad80b39f5c9c1f8\")  \"\"2019-08-28T05:17:26.258Z\"\"   \n",
       "\n",
       "                             2             3   \\\n",
       "0  \"\"2019-08-28T05:05:38.563Z\"\"  62.105.128.0   \n",
       "1  \"\"2019-08-28T05:12:38.971Z\"\"  62.105.128.0   \n",
       "2  \"\"2019-08-28T05:15:02.601Z\"\"  62.105.128.0   \n",
       "3  \"\"2019-08-28T05:17:07.754Z\"\"  62.105.128.0   \n",
       "4  \"\"2019-08-28T05:17:26.258Z\"\"  62.105.128.0   \n",
       "\n",
       "                                     4                             5   \\\n",
       "0  ObjectId(\"5d540324ef8c095bfe8f5fe0\")  \"\"2019-08-25T00:00:00.000Z\"\"   \n",
       "1  ObjectId(\"5d540324ef8c095bfe8f5fe0\")  \"\"2019-08-25T00:00:00.000Z\"\"   \n",
       "2  ObjectId(\"5d5401a9ef8c095bfe8f5e2e\")  \"\"2019-08-25T00:00:00.000Z\"\"   \n",
       "3  ObjectId(\"5d540264ef8c095bfe8f5f04\")  \"\"2019-08-25T00:00:00.000Z\"\"   \n",
       "4  ObjectId(\"5d540264ef8c095bfe8f5f04\")  \"\"2019-09-25T00:00:00.000Z\"\"   \n",
       "\n",
       "                             6       7                  8                  9   \\\n",
       "0  \"\"2019-09-05T00:00:00.000Z\"\"  ACTIVE  \"{\"lat\":55.755786  \"lon\":37.617633}\"   \n",
       "1  \"\"2019-09-05T00:00:00.000Z\"\"  ACTIVE  \"{\"lat\":55.755786  \"lon\":37.617633}\"   \n",
       "2  \"\"2019-09-05T00:00:00.000Z\"\"  ACTIVE  \"{\"lat\":55.755786  \"lon\":37.617633}\"   \n",
       "3  \"\"2019-09-05T00:00:00.000Z\"\"  ACTIVE  \"{\"lat\":55.755786  \"lon\":37.617633}\"   \n",
       "4  \"\"2019-10-05T00:00:00.000Z\"\"  ACTIVE  \"{\"lat\":55.755786  \"lon\":37.617633}\"   \n",
       "\n",
       "  10    11  \n",
       "0  0  None  \n",
       "1  0  None  \n",
       "2  0  None  \n",
       "3  0  None  \n",
       "4  0  None  "
      ]
     },
     "execution_count": 3,
     "metadata": {},
     "output_type": "execute_result"
    }
   ],
   "source": [
    "df = df.T.reset_index(drop=True).T\n",
    "df = df[0].str.split(',', expand=True)\n",
    "df.head()"
   ]
  },
  {
   "cell_type": "code",
   "execution_count": 4,
   "metadata": {},
   "outputs": [
    {
     "data": {
      "text/plain": [
       "0                    59454\n",
       "\"lon\":37.617633}\"      201\n",
       "Name: 10, dtype: int64"
      ]
     },
     "execution_count": 4,
     "metadata": {},
     "output_type": "execute_result"
    }
   ],
   "source": [
    "df[10].value_counts()"
   ]
  },
  {
   "cell_type": "code",
   "execution_count": 5,
   "metadata": {},
   "outputs": [
    {
     "data": {
      "text/plain": [
       "0    201\n",
       "Name: 11, dtype: int64"
      ]
     },
     "execution_count": 5,
     "metadata": {},
     "output_type": "execute_result"
    }
   ],
   "source": [
    "df[11].value_counts()"
   ]
  },
  {
   "cell_type": "code",
   "execution_count": 6,
   "metadata": {},
   "outputs": [],
   "source": [
    "with open('incorrect_indices.txt', mode='w') as f:\n",
    "    inc_indices = df.loc[df[10] != '0'].index.astype(str).tolist()\n",
    "    inc_indices = ', '.join(inc_indices)\n",
    "    f.writelines(inc_indices)"
   ]
  },
  {
   "cell_type": "markdown",
   "metadata": {},
   "source": [
    "filter data from incorrect rows"
   ]
  },
  {
   "cell_type": "code",
   "execution_count": 7,
   "metadata": {},
   "outputs": [],
   "source": [
    "df = df.loc[df[10] == '0']"
   ]
  },
  {
   "cell_type": "markdown",
   "metadata": {},
   "source": [
    "add coordinates"
   ]
  },
  {
   "cell_type": "code",
   "execution_count": 8,
   "metadata": {},
   "outputs": [
    {
     "data": {
      "text/html": [
       "<div>\n",
       "<style scoped>\n",
       "    .dataframe tbody tr th:only-of-type {\n",
       "        vertical-align: middle;\n",
       "    }\n",
       "\n",
       "    .dataframe tbody tr th {\n",
       "        vertical-align: top;\n",
       "    }\n",
       "\n",
       "    .dataframe thead th {\n",
       "        text-align: right;\n",
       "    }\n",
       "</style>\n",
       "<table border=\"1\" class=\"dataframe\">\n",
       "  <thead>\n",
       "    <tr style=\"text-align: right;\">\n",
       "      <th></th>\n",
       "      <th>0</th>\n",
       "      <th>1</th>\n",
       "      <th>2</th>\n",
       "      <th>3</th>\n",
       "      <th>4</th>\n",
       "      <th>5</th>\n",
       "      <th>6</th>\n",
       "      <th>7</th>\n",
       "      <th>8</th>\n",
       "      <th>9</th>\n",
       "      <th>10</th>\n",
       "      <th>11</th>\n",
       "      <th>coord</th>\n",
       "      <th>lat</th>\n",
       "      <th>lon</th>\n",
       "    </tr>\n",
       "  </thead>\n",
       "  <tbody>\n",
       "    <tr>\n",
       "      <th>0</th>\n",
       "      <td>ObjectId(\"5d660ba26aa69634ecbc2781\")</td>\n",
       "      <td>\"\"2019-08-28T05:05:38.563Z\"\"</td>\n",
       "      <td>\"\"2019-08-28T05:05:38.563Z\"\"</td>\n",
       "      <td>62.105.128.0</td>\n",
       "      <td>ObjectId(\"5d540324ef8c095bfe8f5fe0\")</td>\n",
       "      <td>\"\"2019-08-25T00:00:00.000Z\"\"</td>\n",
       "      <td>\"\"2019-09-05T00:00:00.000Z\"\"</td>\n",
       "      <td>ACTIVE</td>\n",
       "      <td>\"{\"lat\":55.755786</td>\n",
       "      <td>\"lon\":37.617633}\"</td>\n",
       "      <td>0</td>\n",
       "      <td>None</td>\n",
       "      <td>{'lat': 55.755786, 'lon': 37.617633}</td>\n",
       "      <td>55.755786</td>\n",
       "      <td>37.617633</td>\n",
       "    </tr>\n",
       "    <tr>\n",
       "      <th>1</th>\n",
       "      <td>ObjectId(\"5d660d46a3b52f38bc103c0b\")</td>\n",
       "      <td>\"\"2019-08-28T05:12:38.971Z\"\"</td>\n",
       "      <td>\"\"2019-08-28T05:12:38.971Z\"\"</td>\n",
       "      <td>62.105.128.0</td>\n",
       "      <td>ObjectId(\"5d540324ef8c095bfe8f5fe0\")</td>\n",
       "      <td>\"\"2019-08-25T00:00:00.000Z\"\"</td>\n",
       "      <td>\"\"2019-09-05T00:00:00.000Z\"\"</td>\n",
       "      <td>ACTIVE</td>\n",
       "      <td>\"{\"lat\":55.755786</td>\n",
       "      <td>\"lon\":37.617633}\"</td>\n",
       "      <td>0</td>\n",
       "      <td>None</td>\n",
       "      <td>{'lat': 55.755786, 'lon': 37.617633}</td>\n",
       "      <td>55.755786</td>\n",
       "      <td>37.617633</td>\n",
       "    </tr>\n",
       "    <tr>\n",
       "      <th>2</th>\n",
       "      <td>ObjectId(\"5d660dd683546a38f10bcf05\")</td>\n",
       "      <td>\"\"2019-08-28T05:15:02.601Z\"\"</td>\n",
       "      <td>\"\"2019-08-28T05:15:02.601Z\"\"</td>\n",
       "      <td>62.105.128.0</td>\n",
       "      <td>ObjectId(\"5d5401a9ef8c095bfe8f5e2e\")</td>\n",
       "      <td>\"\"2019-08-25T00:00:00.000Z\"\"</td>\n",
       "      <td>\"\"2019-09-05T00:00:00.000Z\"\"</td>\n",
       "      <td>ACTIVE</td>\n",
       "      <td>\"{\"lat\":55.755786</td>\n",
       "      <td>\"lon\":37.617633}\"</td>\n",
       "      <td>0</td>\n",
       "      <td>None</td>\n",
       "      <td>{'lat': 55.755786, 'lon': 37.617633}</td>\n",
       "      <td>55.755786</td>\n",
       "      <td>37.617633</td>\n",
       "    </tr>\n",
       "    <tr>\n",
       "      <th>3</th>\n",
       "      <td>ObjectId(\"5d660e53cad80b39f5c9c1f7\")</td>\n",
       "      <td>\"\"2019-08-28T05:17:07.754Z\"\"</td>\n",
       "      <td>\"\"2019-08-28T05:17:07.754Z\"\"</td>\n",
       "      <td>62.105.128.0</td>\n",
       "      <td>ObjectId(\"5d540264ef8c095bfe8f5f04\")</td>\n",
       "      <td>\"\"2019-08-25T00:00:00.000Z\"\"</td>\n",
       "      <td>\"\"2019-09-05T00:00:00.000Z\"\"</td>\n",
       "      <td>ACTIVE</td>\n",
       "      <td>\"{\"lat\":55.755786</td>\n",
       "      <td>\"lon\":37.617633}\"</td>\n",
       "      <td>0</td>\n",
       "      <td>None</td>\n",
       "      <td>{'lat': 55.755786, 'lon': 37.617633}</td>\n",
       "      <td>55.755786</td>\n",
       "      <td>37.617633</td>\n",
       "    </tr>\n",
       "    <tr>\n",
       "      <th>4</th>\n",
       "      <td>ObjectId(\"5d660e66cad80b39f5c9c1f8\")</td>\n",
       "      <td>\"\"2019-08-28T05:17:26.258Z\"\"</td>\n",
       "      <td>\"\"2019-08-28T05:17:26.258Z\"\"</td>\n",
       "      <td>62.105.128.0</td>\n",
       "      <td>ObjectId(\"5d540264ef8c095bfe8f5f04\")</td>\n",
       "      <td>\"\"2019-09-25T00:00:00.000Z\"\"</td>\n",
       "      <td>\"\"2019-10-05T00:00:00.000Z\"\"</td>\n",
       "      <td>ACTIVE</td>\n",
       "      <td>\"{\"lat\":55.755786</td>\n",
       "      <td>\"lon\":37.617633}\"</td>\n",
       "      <td>0</td>\n",
       "      <td>None</td>\n",
       "      <td>{'lat': 55.755786, 'lon': 37.617633}</td>\n",
       "      <td>55.755786</td>\n",
       "      <td>37.617633</td>\n",
       "    </tr>\n",
       "  </tbody>\n",
       "</table>\n",
       "</div>"
      ],
      "text/plain": [
       "                                      0                             1  \\\n",
       "0  ObjectId(\"5d660ba26aa69634ecbc2781\")  \"\"2019-08-28T05:05:38.563Z\"\"   \n",
       "1  ObjectId(\"5d660d46a3b52f38bc103c0b\")  \"\"2019-08-28T05:12:38.971Z\"\"   \n",
       "2  ObjectId(\"5d660dd683546a38f10bcf05\")  \"\"2019-08-28T05:15:02.601Z\"\"   \n",
       "3  ObjectId(\"5d660e53cad80b39f5c9c1f7\")  \"\"2019-08-28T05:17:07.754Z\"\"   \n",
       "4  ObjectId(\"5d660e66cad80b39f5c9c1f8\")  \"\"2019-08-28T05:17:26.258Z\"\"   \n",
       "\n",
       "                              2             3  \\\n",
       "0  \"\"2019-08-28T05:05:38.563Z\"\"  62.105.128.0   \n",
       "1  \"\"2019-08-28T05:12:38.971Z\"\"  62.105.128.0   \n",
       "2  \"\"2019-08-28T05:15:02.601Z\"\"  62.105.128.0   \n",
       "3  \"\"2019-08-28T05:17:07.754Z\"\"  62.105.128.0   \n",
       "4  \"\"2019-08-28T05:17:26.258Z\"\"  62.105.128.0   \n",
       "\n",
       "                                      4                             5  \\\n",
       "0  ObjectId(\"5d540324ef8c095bfe8f5fe0\")  \"\"2019-08-25T00:00:00.000Z\"\"   \n",
       "1  ObjectId(\"5d540324ef8c095bfe8f5fe0\")  \"\"2019-08-25T00:00:00.000Z\"\"   \n",
       "2  ObjectId(\"5d5401a9ef8c095bfe8f5e2e\")  \"\"2019-08-25T00:00:00.000Z\"\"   \n",
       "3  ObjectId(\"5d540264ef8c095bfe8f5f04\")  \"\"2019-08-25T00:00:00.000Z\"\"   \n",
       "4  ObjectId(\"5d540264ef8c095bfe8f5f04\")  \"\"2019-09-25T00:00:00.000Z\"\"   \n",
       "\n",
       "                              6       7                  8                  9  \\\n",
       "0  \"\"2019-09-05T00:00:00.000Z\"\"  ACTIVE  \"{\"lat\":55.755786  \"lon\":37.617633}\"   \n",
       "1  \"\"2019-09-05T00:00:00.000Z\"\"  ACTIVE  \"{\"lat\":55.755786  \"lon\":37.617633}\"   \n",
       "2  \"\"2019-09-05T00:00:00.000Z\"\"  ACTIVE  \"{\"lat\":55.755786  \"lon\":37.617633}\"   \n",
       "3  \"\"2019-09-05T00:00:00.000Z\"\"  ACTIVE  \"{\"lat\":55.755786  \"lon\":37.617633}\"   \n",
       "4  \"\"2019-10-05T00:00:00.000Z\"\"  ACTIVE  \"{\"lat\":55.755786  \"lon\":37.617633}\"   \n",
       "\n",
       "  10    11                                 coord        lat        lon  \n",
       "0  0  None  {'lat': 55.755786, 'lon': 37.617633}  55.755786  37.617633  \n",
       "1  0  None  {'lat': 55.755786, 'lon': 37.617633}  55.755786  37.617633  \n",
       "2  0  None  {'lat': 55.755786, 'lon': 37.617633}  55.755786  37.617633  \n",
       "3  0  None  {'lat': 55.755786, 'lon': 37.617633}  55.755786  37.617633  \n",
       "4  0  None  {'lat': 55.755786, 'lon': 37.617633}  55.755786  37.617633  "
      ]
     },
     "execution_count": 8,
     "metadata": {},
     "output_type": "execute_result"
    }
   ],
   "source": [
    "df['coord'] = (df[8] + ', ' + df[9]).str[1:-1].apply(json.loads)\n",
    "df['lat'] = df['coord'].str['lat']\n",
    "df['lon'] = df['coord'].str['lon']\n",
    "df.head()"
   ]
  },
  {
   "cell_type": "markdown",
   "metadata": {},
   "source": [
    "rename columns"
   ]
  },
  {
   "cell_type": "code",
   "execution_count": 9,
   "metadata": {},
   "outputs": [
    {
     "data": {
      "text/html": [
       "<div>\n",
       "<style scoped>\n",
       "    .dataframe tbody tr th:only-of-type {\n",
       "        vertical-align: middle;\n",
       "    }\n",
       "\n",
       "    .dataframe tbody tr th {\n",
       "        vertical-align: top;\n",
       "    }\n",
       "\n",
       "    .dataframe thead th {\n",
       "        text-align: right;\n",
       "    }\n",
       "</style>\n",
       "<table border=\"1\" class=\"dataframe\">\n",
       "  <thead>\n",
       "    <tr style=\"text-align: right;\">\n",
       "      <th></th>\n",
       "      <th>_id</th>\n",
       "      <th>updatedAt</th>\n",
       "      <th>createdAt</th>\n",
       "      <th>ip</th>\n",
       "      <th>destination</th>\n",
       "      <th>departureDate</th>\n",
       "      <th>returnDate</th>\n",
       "      <th>status</th>\n",
       "      <th>8</th>\n",
       "      <th>9</th>\n",
       "      <th>10</th>\n",
       "      <th>11</th>\n",
       "      <th>coord</th>\n",
       "      <th>lat</th>\n",
       "      <th>lon</th>\n",
       "    </tr>\n",
       "  </thead>\n",
       "  <tbody>\n",
       "    <tr>\n",
       "      <th>0</th>\n",
       "      <td>ObjectId(\"5d660ba26aa69634ecbc2781\")</td>\n",
       "      <td>\"\"2019-08-28T05:05:38.563Z\"\"</td>\n",
       "      <td>\"\"2019-08-28T05:05:38.563Z\"\"</td>\n",
       "      <td>62.105.128.0</td>\n",
       "      <td>ObjectId(\"5d540324ef8c095bfe8f5fe0\")</td>\n",
       "      <td>\"\"2019-08-25T00:00:00.000Z\"\"</td>\n",
       "      <td>\"\"2019-09-05T00:00:00.000Z\"\"</td>\n",
       "      <td>ACTIVE</td>\n",
       "      <td>\"{\"lat\":55.755786</td>\n",
       "      <td>\"lon\":37.617633}\"</td>\n",
       "      <td>0</td>\n",
       "      <td>None</td>\n",
       "      <td>{'lat': 55.755786, 'lon': 37.617633}</td>\n",
       "      <td>55.755786</td>\n",
       "      <td>37.617633</td>\n",
       "    </tr>\n",
       "    <tr>\n",
       "      <th>1</th>\n",
       "      <td>ObjectId(\"5d660d46a3b52f38bc103c0b\")</td>\n",
       "      <td>\"\"2019-08-28T05:12:38.971Z\"\"</td>\n",
       "      <td>\"\"2019-08-28T05:12:38.971Z\"\"</td>\n",
       "      <td>62.105.128.0</td>\n",
       "      <td>ObjectId(\"5d540324ef8c095bfe8f5fe0\")</td>\n",
       "      <td>\"\"2019-08-25T00:00:00.000Z\"\"</td>\n",
       "      <td>\"\"2019-09-05T00:00:00.000Z\"\"</td>\n",
       "      <td>ACTIVE</td>\n",
       "      <td>\"{\"lat\":55.755786</td>\n",
       "      <td>\"lon\":37.617633}\"</td>\n",
       "      <td>0</td>\n",
       "      <td>None</td>\n",
       "      <td>{'lat': 55.755786, 'lon': 37.617633}</td>\n",
       "      <td>55.755786</td>\n",
       "      <td>37.617633</td>\n",
       "    </tr>\n",
       "    <tr>\n",
       "      <th>2</th>\n",
       "      <td>ObjectId(\"5d660dd683546a38f10bcf05\")</td>\n",
       "      <td>\"\"2019-08-28T05:15:02.601Z\"\"</td>\n",
       "      <td>\"\"2019-08-28T05:15:02.601Z\"\"</td>\n",
       "      <td>62.105.128.0</td>\n",
       "      <td>ObjectId(\"5d5401a9ef8c095bfe8f5e2e\")</td>\n",
       "      <td>\"\"2019-08-25T00:00:00.000Z\"\"</td>\n",
       "      <td>\"\"2019-09-05T00:00:00.000Z\"\"</td>\n",
       "      <td>ACTIVE</td>\n",
       "      <td>\"{\"lat\":55.755786</td>\n",
       "      <td>\"lon\":37.617633}\"</td>\n",
       "      <td>0</td>\n",
       "      <td>None</td>\n",
       "      <td>{'lat': 55.755786, 'lon': 37.617633}</td>\n",
       "      <td>55.755786</td>\n",
       "      <td>37.617633</td>\n",
       "    </tr>\n",
       "    <tr>\n",
       "      <th>3</th>\n",
       "      <td>ObjectId(\"5d660e53cad80b39f5c9c1f7\")</td>\n",
       "      <td>\"\"2019-08-28T05:17:07.754Z\"\"</td>\n",
       "      <td>\"\"2019-08-28T05:17:07.754Z\"\"</td>\n",
       "      <td>62.105.128.0</td>\n",
       "      <td>ObjectId(\"5d540264ef8c095bfe8f5f04\")</td>\n",
       "      <td>\"\"2019-08-25T00:00:00.000Z\"\"</td>\n",
       "      <td>\"\"2019-09-05T00:00:00.000Z\"\"</td>\n",
       "      <td>ACTIVE</td>\n",
       "      <td>\"{\"lat\":55.755786</td>\n",
       "      <td>\"lon\":37.617633}\"</td>\n",
       "      <td>0</td>\n",
       "      <td>None</td>\n",
       "      <td>{'lat': 55.755786, 'lon': 37.617633}</td>\n",
       "      <td>55.755786</td>\n",
       "      <td>37.617633</td>\n",
       "    </tr>\n",
       "    <tr>\n",
       "      <th>4</th>\n",
       "      <td>ObjectId(\"5d660e66cad80b39f5c9c1f8\")</td>\n",
       "      <td>\"\"2019-08-28T05:17:26.258Z\"\"</td>\n",
       "      <td>\"\"2019-08-28T05:17:26.258Z\"\"</td>\n",
       "      <td>62.105.128.0</td>\n",
       "      <td>ObjectId(\"5d540264ef8c095bfe8f5f04\")</td>\n",
       "      <td>\"\"2019-09-25T00:00:00.000Z\"\"</td>\n",
       "      <td>\"\"2019-10-05T00:00:00.000Z\"\"</td>\n",
       "      <td>ACTIVE</td>\n",
       "      <td>\"{\"lat\":55.755786</td>\n",
       "      <td>\"lon\":37.617633}\"</td>\n",
       "      <td>0</td>\n",
       "      <td>None</td>\n",
       "      <td>{'lat': 55.755786, 'lon': 37.617633}</td>\n",
       "      <td>55.755786</td>\n",
       "      <td>37.617633</td>\n",
       "    </tr>\n",
       "  </tbody>\n",
       "</table>\n",
       "</div>"
      ],
      "text/plain": [
       "                                    _id                     updatedAt  \\\n",
       "0  ObjectId(\"5d660ba26aa69634ecbc2781\")  \"\"2019-08-28T05:05:38.563Z\"\"   \n",
       "1  ObjectId(\"5d660d46a3b52f38bc103c0b\")  \"\"2019-08-28T05:12:38.971Z\"\"   \n",
       "2  ObjectId(\"5d660dd683546a38f10bcf05\")  \"\"2019-08-28T05:15:02.601Z\"\"   \n",
       "3  ObjectId(\"5d660e53cad80b39f5c9c1f7\")  \"\"2019-08-28T05:17:07.754Z\"\"   \n",
       "4  ObjectId(\"5d660e66cad80b39f5c9c1f8\")  \"\"2019-08-28T05:17:26.258Z\"\"   \n",
       "\n",
       "                      createdAt            ip  \\\n",
       "0  \"\"2019-08-28T05:05:38.563Z\"\"  62.105.128.0   \n",
       "1  \"\"2019-08-28T05:12:38.971Z\"\"  62.105.128.0   \n",
       "2  \"\"2019-08-28T05:15:02.601Z\"\"  62.105.128.0   \n",
       "3  \"\"2019-08-28T05:17:07.754Z\"\"  62.105.128.0   \n",
       "4  \"\"2019-08-28T05:17:26.258Z\"\"  62.105.128.0   \n",
       "\n",
       "                            destination                 departureDate  \\\n",
       "0  ObjectId(\"5d540324ef8c095bfe8f5fe0\")  \"\"2019-08-25T00:00:00.000Z\"\"   \n",
       "1  ObjectId(\"5d540324ef8c095bfe8f5fe0\")  \"\"2019-08-25T00:00:00.000Z\"\"   \n",
       "2  ObjectId(\"5d5401a9ef8c095bfe8f5e2e\")  \"\"2019-08-25T00:00:00.000Z\"\"   \n",
       "3  ObjectId(\"5d540264ef8c095bfe8f5f04\")  \"\"2019-08-25T00:00:00.000Z\"\"   \n",
       "4  ObjectId(\"5d540264ef8c095bfe8f5f04\")  \"\"2019-09-25T00:00:00.000Z\"\"   \n",
       "\n",
       "                     returnDate  status                  8                  9  \\\n",
       "0  \"\"2019-09-05T00:00:00.000Z\"\"  ACTIVE  \"{\"lat\":55.755786  \"lon\":37.617633}\"   \n",
       "1  \"\"2019-09-05T00:00:00.000Z\"\"  ACTIVE  \"{\"lat\":55.755786  \"lon\":37.617633}\"   \n",
       "2  \"\"2019-09-05T00:00:00.000Z\"\"  ACTIVE  \"{\"lat\":55.755786  \"lon\":37.617633}\"   \n",
       "3  \"\"2019-09-05T00:00:00.000Z\"\"  ACTIVE  \"{\"lat\":55.755786  \"lon\":37.617633}\"   \n",
       "4  \"\"2019-10-05T00:00:00.000Z\"\"  ACTIVE  \"{\"lat\":55.755786  \"lon\":37.617633}\"   \n",
       "\n",
       "  10    11                                 coord        lat        lon  \n",
       "0  0  None  {'lat': 55.755786, 'lon': 37.617633}  55.755786  37.617633  \n",
       "1  0  None  {'lat': 55.755786, 'lon': 37.617633}  55.755786  37.617633  \n",
       "2  0  None  {'lat': 55.755786, 'lon': 37.617633}  55.755786  37.617633  \n",
       "3  0  None  {'lat': 55.755786, 'lon': 37.617633}  55.755786  37.617633  \n",
       "4  0  None  {'lat': 55.755786, 'lon': 37.617633}  55.755786  37.617633  "
      ]
     },
     "execution_count": 9,
     "metadata": {},
     "output_type": "execute_result"
    }
   ],
   "source": [
    "columns_map = dict(zip(np.arange(8), columns[:-2]))\n",
    "df = df.rename(columns=columns_map)\n",
    "df.head()"
   ]
  },
  {
   "cell_type": "code",
   "execution_count": 10,
   "metadata": {},
   "outputs": [
    {
     "name": "stdout",
     "output_type": "stream",
     "text": [
      "<class 'pandas.core.frame.DataFrame'>\n",
      "Int64Index: 59454 entries, 0 to 59655\n",
      "Data columns (total 11 columns):\n",
      "_id              59454 non-null object\n",
      "updatedAt        59454 non-null object\n",
      "createdAt        59454 non-null object\n",
      "ip               59454 non-null object\n",
      "destination      59454 non-null object\n",
      "departureDate    59454 non-null object\n",
      "returnDate       59454 non-null object\n",
      "status           59454 non-null object\n",
      "coord            59454 non-null object\n",
      "lat              59454 non-null float64\n",
      "lon              59454 non-null float64\n",
      "dtypes: float64(2), object(9)\n",
      "memory usage: 5.4+ MB\n"
     ]
    }
   ],
   "source": [
    "df = df.drop([8, 9, 10, 11], axis=1)\n",
    "df.info()"
   ]
  },
  {
   "cell_type": "code",
   "execution_count": 11,
   "metadata": {},
   "outputs": [],
   "source": [
    "date_columns = ['departureDate', 'returnDate', 'createdAt', 'updatedAt']\n",
    "for column in date_columns:\n",
    "    df[column] = pd.to_datetime(df[column].str[2:-2])"
   ]
  },
  {
   "cell_type": "code",
   "execution_count": 12,
   "metadata": {},
   "outputs": [],
   "source": [
    "df = df[df['createdAt'] > '2019-10-08']"
   ]
  },
  {
   "cell_type": "code",
   "execution_count": 13,
   "metadata": {},
   "outputs": [
    {
     "data": {
      "text/plain": [
       "ObjectId(\"5d540184ef8c095bfe8f5e02\")    2076\n",
       "ObjectId(\"5d5401abef8c095bfe8f5e30\")    1901\n",
       "ObjectId(\"5d54057cef8c095bfe8f6242\")    1746\n",
       "ObjectId(\"5d5401c3ef8c095bfe8f5e4f\")    1704\n",
       "ObjectId(\"5d5403daef8c095bfe8f609c\")    1565\n",
       "ObjectId(\"5d54060cef8c095bfe8f62c4\")    1484\n",
       "ObjectId(\"5d540180ef8c095bfe8f5dfb\")    1209\n",
       "ObjectId(\"5d5401b6ef8c095bfe8f5e3f\")    1121\n",
       "ObjectId(\"5d54018aef8c095bfe8f5e0b\")    1110\n",
       "ObjectId(\"5d5402bbef8c095bfe8f5f68\")    1077\n",
       "Name: destination, dtype: int64"
      ]
     },
     "execution_count": 13,
     "metadata": {},
     "output_type": "execute_result"
    }
   ],
   "source": [
    "df['destination'].value_counts().head(10)"
   ]
  },
  {
   "cell_type": "code",
   "execution_count": 14,
   "metadata": {},
   "outputs": [],
   "source": [
    "ip = df['ip'].iloc[0]"
   ]
  },
  {
   "cell_type": "code",
   "execution_count": 15,
   "metadata": {},
   "outputs": [],
   "source": [
    "import requests"
   ]
  },
  {
   "cell_type": "code",
   "execution_count": 16,
   "metadata": {},
   "outputs": [],
   "source": [
    "def calculate_by_ip(ip) -> dict:\n",
    "    url = f'http://www.travelpayouts.com/whereami?locale=ru&callback=useriata&ip={ip}'\n",
    "    resp = requests.get(url).content\n",
    "    ans = json.loads(resp.decode('utf')[9:-2])\n",
    "    return ans"
   ]
  },
  {
   "cell_type": "code",
   "execution_count": null,
   "metadata": {},
   "outputs": [],
   "source": [
    "%%time\n",
    "ip_adresses = df['ip'].apply(calculate_by_ip)"
   ]
  },
  {
   "cell_type": "code",
   "execution_count": null,
   "metadata": {},
   "outputs": [],
   "source": []
  },
  {
   "cell_type": "code",
   "execution_count": 55,
   "metadata": {},
   "outputs": [
    {
     "data": {
      "text/plain": [
       "{'iata': 'TSE',\n",
       " 'name': 'Астана',\n",
       " 'country_name': 'Казахстан',\n",
       " 'coordinates': '71.4612:51.02781'}"
      ]
     },
     "execution_count": 55,
     "metadata": {},
     "output_type": "execute_result"
    }
   ],
   "source": []
  },
  {
   "cell_type": "code",
   "execution_count": null,
   "metadata": {},
   "outputs": [],
   "source": []
  }
 ],
 "metadata": {
  "kernelspec": {
   "display_name": "Python 3",
   "language": "python",
   "name": "python3"
  },
  "language_info": {
   "codemirror_mode": {
    "name": "ipython",
    "version": 3
   },
   "file_extension": ".py",
   "mimetype": "text/x-python",
   "name": "python",
   "nbconvert_exporter": "python",
   "pygments_lexer": "ipython3",
   "version": "3.7.1"
  }
 },
 "nbformat": 4,
 "nbformat_minor": 2
}
